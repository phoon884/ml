{
 "cells": [
  {
   "cell_type": "code",
   "execution_count": 245,
   "metadata": {},
   "outputs": [],
   "source": [
    "import torch\n",
    "import torch.nn as nn\n",
    "import matplotlib.pyplot as plt\n",
    "import pandas as pd\n",
    "import numpy as np\n",
    "from torchvision import datasets\n",
    "from torchvision import transforms\n",
    "from PIL import Image, ImageFilter \n",
    "import PIL.ImageOps\n"
   ]
  },
  {
   "cell_type": "code",
   "execution_count": 229,
   "metadata": {},
   "outputs": [],
   "source": [
    "class ANN(nn.Module):\n",
    "    def __init__(self,input_size,output_size,hidden_size):\n",
    "        super(ANN, self).__init__()\n",
    "        self.dropout = nn.Dropout(p=0.2)\n",
    "        self.input_size = input_size\n",
    "        self.fc1 = nn.Linear(input_size,hidden_size)\n",
    "        self.relu = nn.ReLU()\n",
    "        self.fc2 = nn.Linear(hidden_size,output_size)\n",
    "    def forward(self, input):\n",
    "        input = input.reshape(-1,self.input_size)\n",
    "        output = self.fc1(input)\n",
    "        output = self.dropout(output)\n",
    "        output = self.relu(output)\n",
    "        output = self.fc2(output)\n",
    "        return output"
   ]
  },
  {
   "cell_type": "code",
   "execution_count": 230,
   "metadata": {},
   "outputs": [],
   "source": [
    "input_size = 28*28\n",
    "hidden_size = 25\n",
    "output_size = 10\n",
    "torch.manual_seed(3407)\n",
    "ann = ANN(input_size, output_size,hidden_size)\n",
    "optimizer = torch.optim.Adam(ann.parameters(), lr=0.01)\n",
    "criterion = nn.CrossEntropyLoss()\n"
   ]
  },
  {
   "cell_type": "code",
   "execution_count": 231,
   "metadata": {},
   "outputs": [
    {
     "name": "stdout",
     "output_type": "stream",
     "text": [
      "cuda:0\n"
     ]
    },
    {
     "data": {
      "text/plain": [
       "ANN(\n",
       "  (dropout): Dropout(p=0.2, inplace=False)\n",
       "  (fc1): Linear(in_features=784, out_features=25, bias=True)\n",
       "  (relu): ReLU()\n",
       "  (fc2): Linear(in_features=25, out_features=10, bias=True)\n",
       ")"
      ]
     },
     "execution_count": 231,
     "metadata": {},
     "output_type": "execute_result"
    }
   ],
   "source": [
    "device = torch.device(\"cuda:0\" if torch.cuda.is_available() else \"cpu\")\n",
    "print(device)\n",
    "ann.to(device)"
   ]
  },
  {
   "cell_type": "code",
   "execution_count": 232,
   "metadata": {},
   "outputs": [],
   "source": [
    "mnist_train = datasets.MNIST('./', download=True,transform = transforms.ToTensor())\n",
    "mnist_test = datasets.MNIST('./', download=True, train=False,transform = transforms.ToTensor())\n"
   ]
  },
  {
   "cell_type": "code",
   "execution_count": 233,
   "metadata": {},
   "outputs": [
    {
     "name": "stdout",
     "output_type": "stream",
     "text": [
      "tensor([7, 2, 1,  ..., 4, 5, 6])\n"
     ]
    },
    {
     "data": {
      "image/png": "[encoded data removed]",
      "text/plain": [
       "<Figure size 432x288 with 1 Axes>"
      ]
     },
     "metadata": {
      "needs_background": "light"
     },
     "output_type": "display_data"
    }
   ],
   "source": [
    "label =  mnist_test.targets\n",
    "image = mnist_test.data[-1, :, :].numpy()\n",
    "plt.imshow(image,cmap = \"gray\")\n",
    "print(label)\n"
   ]
  },
  {
   "cell_type": "code",
   "execution_count": 234,
   "metadata": {},
   "outputs": [],
   "source": [
    "batch_size = 128\n",
    "train_loader = torch.utils.data.DataLoader(dataset=mnist_train, \n",
    "                                           batch_size=batch_size, \n",
    "                                           shuffle=True)\n",
    "\n",
    "test_loader = torch.utils.data.DataLoader(dataset=mnist_test, \n",
    "                                          batch_size=batch_size, \n",
    "                                          shuffle=False)"
   ]
  },
  {
   "cell_type": "code",
   "execution_count": 235,
   "metadata": {},
   "outputs": [
    {
     "name": "stdout",
     "output_type": "stream",
     "text": [
      "num_epochs: 0\n",
      "num_epochs: 1\n",
      "num_epochs: 2\n",
      "num_epochs: 3\n",
      "num_epochs: 4\n",
      "num_epochs: 5\n",
      "num_epochs: 6\n",
      "num_epochs: 7\n",
      "num_epochs: 8\n",
      "num_epochs: 9\n",
      "num_epochs: 10\n",
      "num_epochs: 11\n",
      "num_epochs: 12\n",
      "num_epochs: 13\n",
      "num_epochs: 14\n",
      "num_epochs: 15\n",
      "num_epochs: 16\n",
      "num_epochs: 17\n",
      "num_epochs: 18\n",
      "num_epochs: 19\n",
      "num_epochs: 20\n",
      "num_epochs: 21\n",
      "num_epochs: 22\n",
      "num_epochs: 23\n",
      "num_epochs: 24\n",
      "num_epochs: 25\n",
      "num_epochs: 26\n",
      "num_epochs: 27\n",
      "num_epochs: 28\n",
      "num_epochs: 29\n",
      "num_epochs: 30\n",
      "num_epochs: 31\n",
      "num_epochs: 32\n",
      "num_epochs: 33\n",
      "num_epochs: 34\n",
      "num_epochs: 35\n",
      "num_epochs: 36\n",
      "num_epochs: 37\n",
      "num_epochs: 38\n",
      "num_epochs: 39\n",
      "num_epochs: 40\n",
      "num_epochs: 41\n",
      "num_epochs: 42\n",
      "num_epochs: 43\n",
      "num_epochs: 44\n",
      "num_epochs: 45\n",
      "num_epochs: 46\n",
      "num_epochs: 47\n",
      "num_epochs: 48\n",
      "num_epochs: 49\n",
      "num_epochs: 50\n",
      "num_epochs: 51\n",
      "num_epochs: 52\n",
      "num_epochs: 53\n",
      "num_epochs: 54\n",
      "num_epochs: 55\n",
      "num_epochs: 56\n",
      "num_epochs: 57\n",
      "num_epochs: 58\n",
      "num_epochs: 59\n",
      "num_epochs: 60\n",
      "num_epochs: 61\n",
      "num_epochs: 62\n",
      "num_epochs: 63\n",
      "num_epochs: 64\n",
      "num_epochs: 65\n",
      "num_epochs: 66\n",
      "num_epochs: 67\n",
      "num_epochs: 68\n",
      "num_epochs: 69\n",
      "num_epochs: 70\n",
      "num_epochs: 71\n",
      "num_epochs: 72\n",
      "num_epochs: 73\n",
      "num_epochs: 74\n",
      "num_epochs: 75\n",
      "num_epochs: 76\n",
      "num_epochs: 77\n",
      "num_epochs: 78\n",
      "num_epochs: 79\n",
      "num_epochs: 80\n",
      "num_epochs: 81\n",
      "num_epochs: 82\n",
      "num_epochs: 83\n",
      "num_epochs: 84\n",
      "num_epochs: 85\n",
      "num_epochs: 86\n",
      "num_epochs: 87\n",
      "num_epochs: 88\n",
      "num_epochs: 89\n",
      "num_epochs: 90\n",
      "num_epochs: 91\n",
      "num_epochs: 92\n",
      "num_epochs: 93\n",
      "num_epochs: 94\n",
      "num_epochs: 95\n",
      "num_epochs: 96\n",
      "num_epochs: 97\n",
      "num_epochs: 98\n",
      "num_epochs: 99\n"
     ]
    },
    {
     "data": {
      "text/plain": [
       "[<matplotlib.lines.Line2D at 0x290aa634b80>]"
      ]
     },
     "execution_count": 235,
     "metadata": {},
     "output_type": "execute_result"
    },
    {
     "data": {
      "image/png": "[encoded data removed]",
      "text/plain": [
       "<Figure size 432x288 with 1 Axes>"
      ]
     },
     "metadata": {
      "needs_background": "light"
     },
     "output_type": "display_data"
    }
   ],
   "source": [
    "ann.train()\n",
    "num_epochs = 100\n",
    "losses = []\n",
    "accuracy = []\n",
    "for i in range(num_epochs):\n",
    "    print(f\"num_epochs: {i}\")\n",
    "    avg_losses = []\n",
    "    for index , (img , label) in enumerate(train_loader):\n",
    "        img , label = img.to(device) , label.to(device)\n",
    "        optimizer.zero_grad()\n",
    "        output = ann.forward(img)\n",
    "        loss = criterion(output,label)\n",
    "        avg_losses.append(loss.item())\n",
    "        loss.backward()\n",
    "        optimizer.step()\n",
    "    losses.append(np.mean(avg_losses))\n",
    "plt.plot(losses)"
   ]
  },
  {
   "cell_type": "code",
   "execution_count": 236,
   "metadata": {},
   "outputs": [
    {
     "data": {
      "text/plain": [
       "0.9513449367088608"
      ]
     },
     "execution_count": 236,
     "metadata": {},
     "output_type": "execute_result"
    }
   ],
   "source": [
    "ann.eval()\n",
    "accuracy = []\n",
    "for index , (img , label) in enumerate(test_loader):\n",
    "    img, label = img.to(device) , label.to(device)\n",
    "    output = ann.forward(img)\n",
    "    _ , max_indices = torch.max(output,1)\n",
    "    test_acc = np.mean(np.round(label.detach().cpu().numpy()) == np.round(max_indices.detach().cpu().numpy()))\n",
    "    accuracy.append(test_acc)\n",
    "np.mean(accuracy)\n",
    "\n"
   ]
  },
  {
   "cell_type": "code",
   "execution_count": 237,
   "metadata": {},
   "outputs": [],
   "source": [
    "from sklearn.metrics import confusion_matrix\n",
    "import itertools\n",
    "\n",
    "def plot_confusion_matrix(cm, classes,\n",
    "                          normalize=False,\n",
    "                          title='Confusion matrix',\n",
    "                          cmap=plt.cm.Blues):\n",
    "  \"\"\"\n",
    "  This function prints and plots the confusion matrix.\n",
    "  Normalization can be applied by setting `normalize=True`.\n",
    "  \"\"\"\n",
    "  if normalize:\n",
    "      cm = cm.astype('float') / cm.sum(axis=1)[:, np.newaxis]\n",
    "      print(\"Normalized confusion matrix\")\n",
    "  else:\n",
    "      print('Confusion matrix, without normalization')\n",
    "\n",
    "  print(cm)\n",
    "\n",
    "  plt.imshow(cm, interpolation='nearest', cmap=cmap)\n",
    "  plt.title(title)\n",
    "  plt.colorbar()\n",
    "  tick_marks = np.arange(len(classes))\n",
    "  plt.xticks(tick_marks, classes, rotation=45)\n",
    "  plt.yticks(tick_marks, classes)\n",
    "\n",
    "  fmt = '.2f' if normalize else 'd'\n",
    "  thresh = cm.max() / 2.\n",
    "  for i, j in itertools.product(range(cm.shape[0]), range(cm.shape[1])):\n",
    "      plt.text(j, i, format(cm[i, j], fmt),\n",
    "               horizontalalignment=\"center\",\n",
    "               color=\"white\" if cm[i, j] > thresh else \"black\")\n",
    "\n",
    "  plt.tight_layout()\n",
    "  plt.ylabel('True label')\n",
    "  plt.xlabel('Predicted label')\n",
    "  plt.show()"
   ]
  },
  {
   "cell_type": "code",
   "execution_count": 238,
   "metadata": {},
   "outputs": [
    {
     "name": "stdout",
     "output_type": "stream",
     "text": [
      "Confusion matrix, without normalization\n",
      "[[ 964    2    4    1    2    2    3    0    2    0]\n",
      " [   0 1117    6    4    0    1    1    1    5    0]\n",
      " [   4    4 1004    2    2    0    4    3    9    0]\n",
      " [   0    1   20  966    2   10    1    5    3    2]\n",
      " [   1    0   12    0  932    0    7    2    5   23]\n",
      " [   2    2    1   37    2  816    9    2   20    1]\n",
      " [   9    3    5    2    3   10  922    0    4    0]\n",
      " [   4    5   45    7    4    1    1  938    1   22]\n",
      " [   7    8   16    4    5   13    2    5  912    2]\n",
      " [   3    8    0   12   17   14    1    3   14  937]]\n"
     ]
    },
    {
     "data": {
      "image/png": "[encoded data removed]",
      "text/plain": [
       "<Figure size 432x288 with 2 Axes>"
      ]
     },
     "metadata": {
      "needs_background": "light"
     },
     "output_type": "display_data"
    }
   ],
   "source": [
    "x_test = mnist_test.data.numpy()\n",
    "y_test = mnist_test.targets.numpy()\n",
    "p_test = np.array([])\n",
    "for inputs, targets in test_loader:\n",
    "  # move data to GPU\n",
    "  inputs = inputs.to(device)\n",
    "\n",
    "  # reshape the input\n",
    "  inputs = inputs.view(-1, 784)\n",
    "\n",
    "  # Forward pass\n",
    "  outputs = ann(inputs)\n",
    "\n",
    "  # Get prediction\n",
    "  _, predictions = torch.max(outputs, 1)\n",
    "  \n",
    "  # update p_test\n",
    "  p_test = np.concatenate((p_test, predictions.cpu().numpy()))\n",
    "\n",
    "cm = confusion_matrix(y_test, p_test)\n",
    "plot_confusion_matrix(cm, list(range(10)))"
   ]
  },
  {
   "cell_type": "code",
   "execution_count": 260,
   "metadata": {},
   "outputs": [
    {
     "name": "stdout",
     "output_type": "stream",
     "text": [
      "(28, 28)\n",
      "(28, 28)\n",
      "torch.Size([1, 784])\n",
      "tensor([[-26.4300,   2.6920,  -6.5054,  -1.1264,   4.6489,  -3.0567, -18.9062,\n",
      "           1.7183,  -4.0172,   6.2753]], device='cuda:0',\n",
      "       grad_fn=<AddmmBackward0>)\n",
      "tensor([9], device='cuda:0')\n"
     ]
    },
    {
     "data": {
      "image/png": "[encoded data removed]",
      "text/plain": [
       "<Figure size 432x288 with 1 Axes>"
      ]
     },
     "metadata": {
      "needs_background": "light"
     },
     "output_type": "display_data"
    }
   ],
   "source": [
    "image = PIL.ImageOps.invert(Image.open(r\"./7.png\")).convert('L')\n",
    "image = image.filter(ImageFilter.GaussianBlur(radius = 1))\n",
    "print(image.size)\n",
    "eigth = np.array(image)\n",
    "plt.imshow(eigth,cmap = \"gray\")\n",
    "print(eigth.shape)\n",
    "eigth = eigth/255\n",
    "eigth = torch.tensor(eigth,dtype=torch.float32)\n",
    "eigth = eigth.reshape(1,-1)\n",
    "print(eigth.size())\n",
    "eigth = eigth.to(device)\n",
    "pred = ann(eigth)\n",
    "print(pred)\n",
    "_, predictions = torch.max(pred, 1)\n",
    "print(predictions)"
   ]
  }
 ],
 "metadata": {
  "interpreter": {
   "hash": "9820c6239cdbb7db630939f5e05a5bf32e3e26a5f6ce0089fd4cbdc93b6da2ff"
  },
  "kernelspec": {
   "display_name": "Python 3.9.7 64-bit ('stonk': conda)",
   "language": "python",
   "name": "python3"
  },
  "language_info": {
   "codemirror_mode": {
    "name": "ipython",
    "version": 3
   },
   "file_extension": ".py",
   "mimetype": "text/x-python",
   "name": "python",
   "nbconvert_exporter": "python",
   "pygments_lexer": "ipython3",
   "version": "3.9.7"
  },
  "orig_nbformat": 4
 },
 "nbformat": 4,
 "nbformat_minor": 2
}
