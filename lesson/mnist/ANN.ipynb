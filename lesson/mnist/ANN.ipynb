{
 "cells": [
  {
   "cell_type": "code",
   "execution_count": 1,
   "metadata": {},
   "outputs": [],
   "source": [
    "import torch\n",
    "import torch.nn as nn\n",
    "import matplotlib.pyplot as plt\n",
    "import pandas as pd\n",
    "import numpy as np\n",
    "from torchvision import datasets\n",
    "from torchvision import transforms\n",
    "from PIL import Image, ImageFilter, ImageEnhance\n",
    "import PIL.ImageOps\n"
   ]
  },
  {
   "cell_type": "code",
   "execution_count": 2,
   "metadata": {},
   "outputs": [],
   "source": [
    "class ANN(nn.Module):\n",
    "    def __init__(self,input_size,output_size,hidden_size):\n",
    "        super(ANN, self).__init__()\n",
    "        self.dropout = nn.Dropout(p=0.2)  #https://jmlr.org/papers/volume15/srivastava14a/srivastava14a.pdf\n",
    "        self.input_size = input_size\n",
    "        self.fc1 = nn.Linear(input_size,hidden_size)\n",
    "        self.relu = nn.ReLU()\n",
    "        self.fc2 = nn.Linear(hidden_size,output_size)\n",
    "    def forward(self, input):\n",
    "        input = input.reshape(-1,self.input_size) #flatten\n",
    "        output = self.fc1(input)\n",
    "        output = self.dropout(output)\n",
    "        output = self.relu(output)\n",
    "        output = self.fc2(output)\n",
    "        return output"
   ]
  },
  {
   "cell_type": "code",
   "execution_count": 3,
   "metadata": {},
   "outputs": [],
   "source": [
    "input_size = 28*28\n",
    "hidden_size = 25\n",
    "output_size = 10\n",
    "torch.manual_seed(3407)\n",
    "ann = ANN(input_size, output_size,hidden_size)\n",
    "optimizer = torch.optim.Adam(ann.parameters(), lr=0.01)\n",
    "criterion = nn.CrossEntropyLoss()\n"
   ]
  },
  {
   "cell_type": "code",
   "execution_count": 4,
   "metadata": {},
   "outputs": [
    {
     "name": "stdout",
     "output_type": "stream",
     "text": [
      "cuda:0\n"
     ]
    },
    {
     "data": {
      "text/plain": [
       "ANN(\n",
       "  (dropout): Dropout(p=0.2, inplace=False)\n",
       "  (fc1): Linear(in_features=784, out_features=25, bias=True)\n",
       "  (relu): ReLU()\n",
       "  (fc2): Linear(in_features=25, out_features=10, bias=True)\n",
       ")"
      ]
     },
     "execution_count": 4,
     "metadata": {},
     "output_type": "execute_result"
    }
   ],
   "source": [
    "device = torch.device(\"cuda:0\" if torch.cuda.is_available() else \"cpu\")\n",
    "print(device)\n",
    "ann.to(device)"
   ]
  },
  {
   "cell_type": "code",
   "execution_count": 5,
   "metadata": {},
   "outputs": [],
   "source": [
    "mnist_train = datasets.MNIST('./', download=True,transform = transforms.ToTensor())\n",
    "mnist_test = datasets.MNIST('./', download=True, train=False,transform = transforms.ToTensor())\n"
   ]
  },
  {
   "cell_type": "code",
   "execution_count": 6,
   "metadata": {},
   "outputs": [
    {
     "name": "stdout",
     "output_type": "stream",
     "text": [
      "tensor([7, 2, 1,  ..., 4, 5, 6])\n"
     ]
    },
    {
     "data": {
      "image/png": "[encoded data removed]",
      "text/plain": [
       "<Figure size 432x288 with 1 Axes>"
      ]
     },
     "metadata": {
      "needs_background": "light"
     },
     "output_type": "display_data"
    }
   ],
   "source": [
    "#show sample image of MNIST\n",
    "label =  mnist_test.targets\n",
    "image = mnist_test.data[-1, :, :].numpy()\n",
    "plt.imshow(image,cmap = \"gray\")\n",
    "print(label)"
   ]
  },
  {
   "cell_type": "code",
   "execution_count": 7,
   "metadata": {},
   "outputs": [],
   "source": [
    "batch_size = 128\n",
    "train_loader = torch.utils.data.DataLoader(dataset=mnist_train, \n",
    "                                           batch_size=batch_size, \n",
    "                                           shuffle=True)\n",
    "\n",
    "test_loader = torch.utils.data.DataLoader(dataset=mnist_test, \n",
    "                                          batch_size=batch_size, \n",
    "                                          shuffle=False)"
   ]
  },
  {
   "cell_type": "code",
   "execution_count": 8,
   "metadata": {},
   "outputs": [
    {
     "name": "stdout",
     "output_type": "stream",
     "text": [
      "num_epochs: 0\n",
      "num_epochs: 1\n",
      "num_epochs: 2\n",
      "num_epochs: 3\n",
      "num_epochs: 4\n",
      "num_epochs: 5\n",
      "num_epochs: 6\n",
      "num_epochs: 7\n",
      "num_epochs: 8\n",
      "num_epochs: 9\n",
      "num_epochs: 10\n",
      "num_epochs: 11\n",
      "num_epochs: 12\n",
      "num_epochs: 13\n",
      "num_epochs: 14\n",
      "num_epochs: 15\n",
      "num_epochs: 16\n",
      "num_epochs: 17\n",
      "num_epochs: 18\n",
      "num_epochs: 19\n"
     ]
    },
    {
     "data": {
      "text/plain": [
       "[<matplotlib.lines.Line2D at 0x1eb2cbe97f0>]"
      ]
     },
     "execution_count": 8,
     "metadata": {},
     "output_type": "execute_result"
    },
    {
     "data": {
      "image/png": "[encoded data removed]",
      "text/plain": [
       "<Figure size 432x288 with 1 Axes>"
      ]
     },
     "metadata": {
      "needs_background": "light"
     },
     "output_type": "display_data"
    }
   ],
   "source": [
    "ann.train()\n",
    "num_epochs = 20\n",
    "losses = []\n",
    "accuracy = []\n",
    "for i in range(num_epochs):\n",
    "    print(f\"num_epochs: {i}\")\n",
    "    avg_losses = []\n",
    "    for index , (img , label) in enumerate(train_loader):\n",
    "        img , label = img.to(device) , label.to(device)\n",
    "        optimizer.zero_grad()\n",
    "        output = ann.forward(img)\n",
    "        loss = criterion(output,label)\n",
    "        avg_losses.append(loss.item())\n",
    "        loss.backward()\n",
    "        optimizer.step()\n",
    "    losses.append(np.mean(avg_losses))\n",
    "plt.plot(losses)"
   ]
  },
  {
   "cell_type": "code",
   "execution_count": 9,
   "metadata": {},
   "outputs": [
    {
     "data": {
      "text/plain": [
       "0.9533227848101266"
      ]
     },
     "execution_count": 9,
     "metadata": {},
     "output_type": "execute_result"
    }
   ],
   "source": [
    "ann.eval()\n",
    "accuracy = []\n",
    "for index , (img , label) in enumerate(test_loader):\n",
    "    img, label = img.to(device) , label.to(device)\n",
    "    output = ann.forward(img)\n",
    "    _ , max_indices = torch.max(output,1)\n",
    "    test_acc = np.mean(np.round(label.detach().cpu().numpy()) == np.round(max_indices.detach().cpu().numpy()))\n",
    "    accuracy.append(test_acc)\n",
    "np.mean(accuracy)\n",
    "\n"
   ]
  },
  {
   "cell_type": "code",
   "execution_count": 10,
   "metadata": {},
   "outputs": [],
   "source": [
    "from sklearn.metrics import confusion_matrix\n",
    "import itertools\n",
    "\n",
    "def plot_confusion_matrix(cm, classes,\n",
    "                          normalize=False,\n",
    "                          title='Confusion matrix',\n",
    "                          cmap=plt.cm.Blues):\n",
    "  \"\"\"\n",
    "  This function prints and plots the confusion matrix.\n",
    "  Normalization can be applied by setting `normalize=True`.\n",
    "  \"\"\"\n",
    "  if normalize:\n",
    "      cm = cm.astype('float') / cm.sum(axis=1)[:, np.newaxis]\n",
    "      print(\"Normalized confusion matrix\")\n",
    "  else:\n",
    "      print('Confusion matrix, without normalization')\n",
    "\n",
    "  print(cm)\n",
    "\n",
    "  plt.imshow(cm, interpolation='nearest', cmap=cmap)\n",
    "  plt.title(title)\n",
    "  plt.colorbar()\n",
    "  tick_marks = np.arange(len(classes))\n",
    "  plt.xticks(tick_marks, classes, rotation=45)\n",
    "  plt.yticks(tick_marks, classes)\n",
    "\n",
    "  fmt = '.2f' if normalize else 'd'\n",
    "  thresh = cm.max() / 2.\n",
    "  for i, j in itertools.product(range(cm.shape[0]), range(cm.shape[1])):\n",
    "      plt.text(j, i, format(cm[i, j], fmt),\n",
    "               horizontalalignment=\"center\",\n",
    "               color=\"white\" if cm[i, j] > thresh else \"black\")\n",
    "\n",
    "  plt.tight_layout()\n",
    "  plt.ylabel('True label')\n",
    "  plt.xlabel('Predicted label')\n",
    "  plt.show()"
   ]
  },
  {
   "cell_type": "code",
   "execution_count": 11,
   "metadata": {},
   "outputs": [
    {
     "name": "stdout",
     "output_type": "stream",
     "text": [
      "Confusion matrix, without normalization\n",
      "[[ 959    1    4    0    0    3    8    3    2    0]\n",
      " [   0 1113    7    3    0    0    1    1   10    0]\n",
      " [   4    2  991    1    4    0    7   16    7    0]\n",
      " [   3    0   13  947    2   22    0   11    5    7]\n",
      " [   1    0    3    1  938    1   15    4    1   18]\n",
      " [   4    0    2    6    4  828   23    4   14    7]\n",
      " [   8    2    2    0    3    3  939    0    1    0]\n",
      " [   2    4   12    7    2    0    1  992    0    8]\n",
      " [  15    5    7    4    9    4   16   19  889    6]\n",
      " [   4    5    2   11   26    6    2   17    4  932]]\n"
     ]
    },
    {
     "data": {
      "image/png": "[encoded data removed]",
      "text/plain": [
       "<Figure size 432x288 with 2 Axes>"
      ]
     },
     "metadata": {
      "needs_background": "light"
     },
     "output_type": "display_data"
    }
   ],
   "source": [
    "x_test = mnist_test.data.numpy()\n",
    "y_test = mnist_test.targets.numpy()\n",
    "p_test = np.array([])\n",
    "for inputs, targets in test_loader:\n",
    "  # move data to GPU\n",
    "  inputs = inputs.to(device)\n",
    "\n",
    "  # reshape the input\n",
    "  inputs = inputs.view(-1, 784)\n",
    "\n",
    "  # Forward pass\n",
    "  outputs = ann(inputs)\n",
    "\n",
    "  # Get prediction\n",
    "  _, predictions = torch.max(outputs, 1)\n",
    "  \n",
    "  # update p_test\n",
    "  p_test = np.concatenate((p_test, predictions.cpu().numpy()))\n",
    "\n",
    "cm = confusion_matrix(y_test, p_test)\n",
    "plot_confusion_matrix(cm, list(range(10)))"
   ]
  },
  {
   "cell_type": "code",
   "execution_count": 16,
   "metadata": {},
   "outputs": [
    {
     "name": "stdout",
     "output_type": "stream",
     "text": [
      "(28, 28)\n",
      "(28, 28)\n",
      "torch.Size([1, 784])\n",
      "tensor([[-25.4058,  -1.4932,   1.5472,  14.8387, -12.2928,  14.6851, -47.5024,\n",
      "         -16.5590,  -0.8827,   1.2769]], device='cuda:0',\n",
      "       grad_fn=<AddmmBackward0>)\n",
      "image prediction: 3\n"
     ]
    },
    {
     "data": {
      "image/png": "[encoded data removed]",
      "text/plain": [
       "<Figure size 432x288 with 1 Axes>"
      ]
     },
     "metadata": {
      "needs_background": "light"
     },
     "output_type": "display_data"
    }
   ],
   "source": [
    "image = PIL.ImageOps.invert(Image.open(r\"./5.png\")).convert('L')\n",
    "\n",
    "#image processing for to make it look like MNIST images\n",
    "image = image.filter(ImageFilter.GaussianBlur(radius = 1))\n",
    "enhancer = ImageEnhance.Contrast(image)\n",
    "factor = 3\n",
    "im_output = enhancer.enhance(factor)\n",
    "\n",
    "print(image.size)\n",
    "eigth = np.array(im_output)\n",
    "plt.imshow(eigth,cmap = \"gray\")\n",
    "print(eigth.shape)\n",
    "eigth = eigth/255\n",
    "eigth = torch.tensor(eigth,dtype=torch.float32)\n",
    "eigth = eigth.reshape(1,-1)\n",
    "print(eigth.size())\n",
    "eigth = eigth.to(device)\n",
    "pred = ann(eigth)\n",
    "print(pred)\n",
    "_, predictions = torch.max(pred, 1)\n",
    "print(f\"image prediction: {predictions.item()}\")"
   ]
  }
 ],
 "metadata": {
  "interpreter": {
   "hash": "9820c6239cdbb7db630939f5e05a5bf32e3e26a5f6ce0089fd4cbdc93b6da2ff"
  },
  "kernelspec": {
   "display_name": "Python 3.9.7 64-bit ('stonk': conda)",
   "language": "python",
   "name": "python3"
  },
  "language_info": {
   "codemirror_mode": {
    "name": "ipython",
    "version": 3
   },
   "file_extension": ".py",
   "mimetype": "text/x-python",
   "name": "python",
   "nbconvert_exporter": "python",
   "pygments_lexer": "ipython3",
   "version": "3.9.7"
  },
  "orig_nbformat": 4
 },
 "nbformat": 4,
 "nbformat_minor": 2
}
