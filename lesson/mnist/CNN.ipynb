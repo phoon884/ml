{
 "cells": [
  {
   "cell_type": "code",
   "execution_count": 3,
   "metadata": {},
   "outputs": [],
   "source": [
    "import torch\n",
    "import torch.nn as nn\n",
    "import matplotlib.pyplot as plt\n",
    "import pandas as pd\n",
    "import numpy as np\n",
    "from torchvision import datasets\n",
    "from torchvision import transforms"
   ]
  },
  {
   "cell_type": "code",
   "execution_count": 4,
   "metadata": {},
   "outputs": [],
   "source": [
    "mnist_train = datasets.FashionMNIST('./', download=True,transform = transforms.ToTensor())\n",
    "mnist_test = datasets.FashionMNIST('./', download=True, train=False,transform = transforms.ToTensor())"
   ]
  },
  {
   "cell_type": "code",
   "execution_count": 14,
   "metadata": {},
   "outputs": [],
   "source": [
    "def calculate_shapeHW(size, kernel_size, stride=1, padding=0, dilation=1):\n",
    "    if type(size) == int:\n",
    "        size = (size, size)\n",
    "    if type(kernel_size) == int:\n",
    "        kernel_size = (kernel_size, kernel_size)\n",
    "    if type(stride) == int:\n",
    "        stride = (stride, stride)\n",
    "    if type(padding) == int:\n",
    "        padding = (padding, padding)\n",
    "    if type(dilation) == int:\n",
    "        dilation = (dilation, dilation)\n",
    "    x = int((size[0] + 2 * padding[0] - dilation[0] * (kernel_size[0]-1) -1)/stride[0] +1)\n",
    "    y = int((size[1] + 2 * padding[1] - dilation[1] * (kernel_size[1]-1) -1)/stride[1] +1)\n",
    "    return x, y\n"
   ]
  },
  {
   "cell_type": "code",
   "execution_count": 5,
   "metadata": {},
   "outputs": [],
   "source": [
    "class CNN(nn.Module):\n",
    "    def __init__(self, input_size, output_size, hidden_sizes, px_size):\n",
    "        super(CNN, self).__init__()\n",
    "        self.conv = nn.Sequential(\n",
    "            nn.Conv2d(in_channels=input_size, out_channels=hidden_sizes[0],\n",
    "                      kernel_size=5, padding=2),\n",
    "            nn.ReLU(),\n",
    "            nn.Conv2d(in_channels=hidden_sizes[0], out_channels=hidden_sizes[1],\n",
    "                      kernel_size=5, padding=2),\n",
    "            nn.ReLU(),\n",
    "            nn.Conv2d(in_channels=hidden_sizes[2], out_channels=output_size,\n",
    "                      kernel_size=5, padding=2),\n",
    "            nn.ReLU()\n",
    "        )\n",
    "        self.fc = nn.Sequential(\n",
    "            nn.dropout(0.2)\n",
    "        )\n",
    "\n",
    "    def forward(self, input):\n",
    "        input = input.reshape(-1, self.input_size)  # flatten\n",
    "        output = self.fc1(input)\n",
    "        output = self.dropout(output)\n",
    "        output = self.relu(output)\n",
    "        output = self.fc2(output)\n",
    "        return output\n"
   ]
  },
  {
   "cell_type": "code",
   "execution_count": 13,
   "metadata": {},
   "outputs": [
    {
     "data": {
      "text/plain": [
       "True"
      ]
     },
     "execution_count": 13,
     "metadata": {},
     "output_type": "execute_result"
    }
   ],
   "source": [
    "a = 5\n",
    "type(a) == int"
   ]
  }
 ],
 "metadata": {
  "interpreter": {
   "hash": "9820c6239cdbb7db630939f5e05a5bf32e3e26a5f6ce0089fd4cbdc93b6da2ff"
  },
  "kernelspec": {
   "display_name": "Python 3.9.7 64-bit ('stonk': conda)",
   "language": "python",
   "name": "python3"
  },
  "language_info": {
   "codemirror_mode": {
    "name": "ipython",
    "version": 3
   },
   "file_extension": ".py",
   "mimetype": "text/x-python",
   "name": "python",
   "nbconvert_exporter": "python",
   "pygments_lexer": "ipython3",
   "version": "3.9.7"
  },
  "orig_nbformat": 4
 },
 "nbformat": 4,
 "nbformat_minor": 2
}
