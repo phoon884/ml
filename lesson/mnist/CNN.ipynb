{
 "cells": [
  {
   "cell_type": "code",
   "execution_count": 1,
   "metadata": {},
   "outputs": [],
   "source": [
    "import torch\n",
    "import torch.nn as nn\n",
    "import matplotlib.pyplot as plt\n",
    "import pandas as pd\n",
    "import numpy as np\n",
    "from torchvision import datasets\n",
    "from torchvision import transforms\n",
    "from datetime import datetime"
   ]
  },
  {
   "cell_type": "code",
   "execution_count": 2,
   "metadata": {},
   "outputs": [],
   "source": [
    "fmnist_train = datasets.FashionMNIST('./', download=True,transform = transforms.ToTensor())\n",
    "fmnist_test = datasets.FashionMNIST('./', download=True, train=False,transform = transforms.ToTensor())"
   ]
  },
  {
   "cell_type": "code",
   "execution_count": 3,
   "metadata": {},
   "outputs": [],
   "source": [
    "def calculate_shapeHW(size, kernel_size, stride=1, padding=0, dilation=1):\n",
    "    if type(size) == int:\n",
    "        size = (size, size)\n",
    "    if type(kernel_size) == int:\n",
    "        kernel_size = (kernel_size, kernel_size)\n",
    "    if type(stride) == int:\n",
    "        stride = (stride, stride)\n",
    "    if type(padding) == int:\n",
    "        padding = (padding, padding)\n",
    "    if type(dilation) == int:\n",
    "        dilation = (dilation, dilation)\n",
    "    x = int((size[0] + 2 * padding[0] - dilation[0] * (kernel_size[0]-1) -1)/stride[0] +1)\n",
    "    y = int((size[1] + 2 * padding[1] - dilation[1] * (kernel_size[1]-1) -1)/stride[1] +1)\n",
    "    return x, y\n"
   ]
  },
  {
   "cell_type": "code",
   "execution_count": 4,
   "metadata": {},
   "outputs": [],
   "source": [
    "class CNN(nn.Module):\n",
    "    def __init__(self, input_size, output_size, hidden_sizes, px_size):\n",
    "        super(CNN, self).__init__()\n",
    "        self.conv = nn.Sequential(\n",
    "            nn.Conv2d(in_channels=input_size, out_channels=hidden_sizes[0],\n",
    "                      kernel_size=3, stride=2),\n",
    "            nn.ReLU(),\n",
    "            nn.Conv2d(in_channels=hidden_sizes[0], out_channels=hidden_sizes[1],\n",
    "                      kernel_size=3, stride=2),\n",
    "            nn.ReLU(),\n",
    "            nn.Conv2d(in_channels=hidden_sizes[1], out_channels=hidden_sizes[2],\n",
    "                      kernel_size=3, stride=2),\n",
    "            nn.ReLU()\n",
    "        )\n",
    "\n",
    "        dim = calculate_shapeHW(px_size,kernel_size=3, stride=2)\n",
    "        dim = calculate_shapeHW(dim,kernel_size=3, stride=2)\n",
    "        dim , _ = calculate_shapeHW(dim,kernel_size=3, stride=2)\n",
    "\n",
    "        self.fc = nn.Sequential(\n",
    "            nn.Dropout(0.2),\n",
    "            nn.Linear(hidden_sizes[2]*dim*dim,hidden_sizes[3]),\n",
    "            nn.ReLU(),\n",
    "            nn.Dropout(0.2),\n",
    "            nn.Linear(hidden_sizes[3],output_size)\n",
    "        )\n",
    "\n",
    "    def forward(self, input):\n",
    "        output = self.conv(input)\n",
    "        output = output.view(output.size(0),-1)\n",
    "        output = self.fc(output)\n",
    "        return output\n"
   ]
  },
  {
   "cell_type": "code",
   "execution_count": 5,
   "metadata": {},
   "outputs": [
    {
     "name": "stdout",
     "output_type": "stream",
     "text": [
      "cuda:0\n"
     ]
    },
    {
     "data": {
      "text/plain": [
       "CNN(\n",
       "  (conv): Sequential(\n",
       "    (0): Conv2d(1, 32, kernel_size=(3, 3), stride=(2, 2))\n",
       "    (1): ReLU()\n",
       "    (2): Conv2d(32, 64, kernel_size=(3, 3), stride=(2, 2))\n",
       "    (3): ReLU()\n",
       "    (4): Conv2d(64, 128, kernel_size=(3, 3), stride=(2, 2))\n",
       "    (5): ReLU()\n",
       "  )\n",
       "  (fc): Sequential(\n",
       "    (0): Dropout(p=0.2, inplace=False)\n",
       "    (1): Linear(in_features=512, out_features=512, bias=True)\n",
       "    (2): ReLU()\n",
       "    (3): Dropout(p=0.2, inplace=False)\n",
       "    (4): Linear(in_features=512, out_features=10, bias=True)\n",
       "  )\n",
       ")"
      ]
     },
     "execution_count": 5,
     "metadata": {},
     "output_type": "execute_result"
    }
   ],
   "source": [
    "fmnist_px = 28\n",
    "fmnist_channel = 1\n",
    "hidden_size = (32,64,128,512)\n",
    "output_size = len(set(fmnist_train.targets.numpy()))\n",
    "\n",
    "model = CNN(fmnist_channel ,output_size ,hidden_size,fmnist_px)\n",
    "\n",
    "device = torch.device(\"cuda:0\" if torch.cuda.is_available() else \"cpu\")\n",
    "print(device)\n",
    "model.to(device)"
   ]
  },
  {
   "cell_type": "code",
   "execution_count": 6,
   "metadata": {},
   "outputs": [],
   "source": [
    "criterion = nn.CrossEntropyLoss()\n",
    "optimizer = torch.optim.Adam(model.parameters())"
   ]
  },
  {
   "cell_type": "code",
   "execution_count": 7,
   "metadata": {},
   "outputs": [],
   "source": [
    "batch_size = 128\n",
    "train_loader = torch.utils.data.DataLoader(dataset=fmnist_train, \n",
    "                                           batch_size=batch_size, \n",
    "                                           shuffle=True)\n",
    "\n",
    "test_loader = torch.utils.data.DataLoader(dataset=fmnist_test, \n",
    "                                          batch_size=batch_size, \n",
    "                                          shuffle=False)"
   ]
  },
  {
   "cell_type": "code",
   "execution_count": 8,
   "metadata": {},
   "outputs": [],
   "source": [
    "def batch_gd(model, criterion, optimizer, train_loader, test_loader, epochs):\n",
    "  train_losses = np.zeros(epochs)\n",
    "  test_losses = np.zeros(epochs)\n",
    "\n",
    "  for it in range(epochs):\n",
    "    model.train()\n",
    "    t0 = datetime.now()\n",
    "    train_loss = []\n",
    "    for inputs, targets in train_loader:\n",
    "      # move data to GPU\n",
    "      inputs, targets = inputs.to(device), targets.to(device)\n",
    "\n",
    "      # zero the parameter gradients\n",
    "      optimizer.zero_grad()\n",
    "\n",
    "      # Forward pass\n",
    "      outputs = model(inputs)\n",
    "      loss = criterion(outputs, targets)\n",
    "        \n",
    "      # Backward and optimize\n",
    "      loss.backward()\n",
    "      optimizer.step()\n",
    "\n",
    "      train_loss.append(loss.item())\n",
    "\n",
    "    # Get train loss and test loss\n",
    "    train_loss = np.mean(train_loss) # a little misleading\n",
    "    \n",
    "    model.eval()\n",
    "    test_loss = []\n",
    "    for inputs, targets in test_loader:\n",
    "      inputs, targets = inputs.to(device), targets.to(device)\n",
    "      outputs = model(inputs)\n",
    "      loss = criterion(outputs, targets)\n",
    "      test_loss.append(loss.item())\n",
    "    test_loss = np.mean(test_loss)\n",
    "\n",
    "    # Save losses\n",
    "    train_losses[it] = train_loss\n",
    "    test_losses[it] = test_loss\n",
    "    \n",
    "    dt = datetime.now() - t0\n",
    "    print(f'Epoch {it+1}/{epochs}, Train Loss: {train_loss:.4f}, \\\n",
    "      Test Loss: {test_loss:.4f}, Duration: {dt}')\n",
    "  \n",
    "  return train_losses, test_losses"
   ]
  },
  {
   "cell_type": "code",
   "execution_count": 9,
   "metadata": {},
   "outputs": [
    {
     "name": "stdout",
     "output_type": "stream",
     "text": [
      "Epoch 1/20, Train Loss: 0.6643,       Test Loss: 0.4945, Duration: 0:00:14.938332\n",
      "Epoch 2/20, Train Loss: 0.4397,       Test Loss: 0.3995, Duration: 0:00:07.712972\n",
      "Epoch 3/20, Train Loss: 0.3824,       Test Loss: 0.3741, Duration: 0:00:07.422441\n",
      "Epoch 4/20, Train Loss: 0.3450,       Test Loss: 0.3404, Duration: 0:00:07.230986\n",
      "Epoch 5/20, Train Loss: 0.3197,       Test Loss: 0.3295, Duration: 0:00:07.327088\n",
      "Epoch 6/20, Train Loss: 0.2970,       Test Loss: 0.3131, Duration: 0:00:07.216356\n",
      "Epoch 7/20, Train Loss: 0.2764,       Test Loss: 0.3096, Duration: 0:00:07.150409\n",
      "Epoch 8/20, Train Loss: 0.2635,       Test Loss: 0.2974, Duration: 0:00:07.330544\n",
      "Epoch 9/20, Train Loss: 0.2479,       Test Loss: 0.3006, Duration: 0:00:07.083121\n",
      "Epoch 10/20, Train Loss: 0.2372,       Test Loss: 0.3046, Duration: 0:00:07.242396\n",
      "Epoch 11/20, Train Loss: 0.2232,       Test Loss: 0.3024, Duration: 0:00:07.256229\n",
      "Epoch 12/20, Train Loss: 0.2103,       Test Loss: 0.2993, Duration: 0:00:07.142555\n",
      "Epoch 13/20, Train Loss: 0.2002,       Test Loss: 0.2945, Duration: 0:00:07.278187\n",
      "Epoch 14/20, Train Loss: 0.1922,       Test Loss: 0.2787, Duration: 0:00:07.470878\n",
      "Epoch 15/20, Train Loss: 0.1796,       Test Loss: 0.2935, Duration: 0:00:07.629487\n",
      "Epoch 16/20, Train Loss: 0.1732,       Test Loss: 0.2942, Duration: 0:00:07.735137\n",
      "Epoch 17/20, Train Loss: 0.1639,       Test Loss: 0.3027, Duration: 0:00:07.656725\n",
      "Epoch 18/20, Train Loss: 0.1551,       Test Loss: 0.3085, Duration: 0:00:07.330724\n",
      "Epoch 19/20, Train Loss: 0.1462,       Test Loss: 0.2974, Duration: 0:00:07.587140\n",
      "Epoch 20/20, Train Loss: 0.1409,       Test Loss: 0.3133, Duration: 0:00:07.458797\n"
     ]
    }
   ],
   "source": [
    "#training\n",
    "train_losses, test_losses = batch_gd(\n",
    "    model, criterion, optimizer, train_loader, test_loader, epochs=20) #change this back to resenable amount later"
   ]
  },
  {
   "cell_type": "code",
   "execution_count": 10,
   "metadata": {},
   "outputs": [
    {
     "data": {
      "image/png": "[encoded data removed]",
      "text/plain": [
       "<Figure size 432x288 with 1 Axes>"
      ]
     },
     "metadata": {
      "needs_background": "light"
     },
     "output_type": "display_data"
    }
   ],
   "source": [
    "plt.plot(train_losses, label='train loss')\n",
    "plt.plot(test_losses, label='test loss')\n",
    "plt.legend()\n",
    "plt.show()"
   ]
  },
  {
   "cell_type": "code",
   "execution_count": 11,
   "metadata": {},
   "outputs": [
    {
     "data": {
      "text/plain": [
       "0.9037776898734177"
      ]
     },
     "execution_count": 11,
     "metadata": {},
     "output_type": "execute_result"
    }
   ],
   "source": [
    "#testing\n",
    "\n",
    "model.eval()\n",
    "accuracy = []\n",
    "for index , (img , label) in enumerate(test_loader):\n",
    "    img, label = img.to(device) , label.to(device)\n",
    "    output = model.forward(img)\n",
    "    _ , max_indices = torch.max(output,1)\n",
    "    test_acc = np.mean(np.round(label.detach().cpu().numpy()) == np.round(max_indices.detach().cpu().numpy()))\n",
    "    accuracy.append(test_acc)\n",
    "np.mean(accuracy)"
   ]
  },
  {
   "cell_type": "code",
   "execution_count": 12,
   "metadata": {},
   "outputs": [],
   "source": [
    "from sklearn.metrics import confusion_matrix\n",
    "import itertools\n",
    "\n",
    "def plot_confusion_matrix(cm, classes,\n",
    "                          normalize=False,\n",
    "                          title='Confusion matrix',\n",
    "                          cmap=plt.cm.Blues):\n",
    "  \"\"\"\n",
    "  This function prints and plots the confusion matrix.\n",
    "  Normalization can be applied by setting `normalize=True`.\n",
    "  \"\"\"\n",
    "  if normalize:\n",
    "      cm = cm.astype('float') / cm.sum(axis=1)[:, np.newaxis]\n",
    "      print(\"Normalized confusion matrix\")\n",
    "  else:\n",
    "      print('Confusion matrix, without normalization')\n",
    "\n",
    "  print(cm)\n",
    "\n",
    "  plt.imshow(cm, interpolation='nearest', cmap=cmap)\n",
    "  plt.title(title)\n",
    "  plt.colorbar()\n",
    "  tick_marks = np.arange(len(classes))\n",
    "  plt.xticks(tick_marks, classes, rotation=45)\n",
    "  plt.yticks(tick_marks, classes)\n",
    "\n",
    "  fmt = '.2f' if normalize else 'd'\n",
    "  thresh = cm.max() / 2.\n",
    "  for i, j in itertools.product(range(cm.shape[0]), range(cm.shape[1])):\n",
    "      plt.text(j, i, format(cm[i, j], fmt),\n",
    "               horizontalalignment=\"center\",\n",
    "               color=\"white\" if cm[i, j] > thresh else \"black\")\n",
    "\n",
    "  plt.tight_layout()\n",
    "  plt.ylabel('True label')\n",
    "  plt.xlabel('Predicted label')\n",
    "  plt.show()"
   ]
  },
  {
   "cell_type": "code",
   "execution_count": 13,
   "metadata": {},
   "outputs": [
    {
     "name": "stdout",
     "output_type": "stream",
     "text": [
      "Confusion matrix, without normalization\n",
      "[[874   1  27  21   3   1  68   0   5   0]\n",
      " [  2 979   0  13   2   0   4   0   0   0]\n",
      " [ 16   1 890  10  46   0  34   0   3   0]\n",
      " [ 14   4  18 921  23   0  16   0   3   1]\n",
      " [  0   1  65  30 848   0  54   0   2   0]\n",
      " [  0   0   0   2   0 972   0  17   2   7]\n",
      " [116   0  91  37  87   0 655   0  14   0]\n",
      " [  0   0   0   0   0  16   0 966   0  18]\n",
      " [  2   0   5   1   4   1   5   3 979   0]\n",
      " [  1   0   0   0   0   7   0  42   0 950]]\n"
     ]
    },
    {
     "data": {
      "image/png": "[encoded data removed]",
      "text/plain": [
       "<Figure size 432x288 with 2 Axes>"
      ]
     },
     "metadata": {
      "needs_background": "light"
     },
     "output_type": "display_data"
    }
   ],
   "source": [
    "x_test = fmnist_test.data.numpy()\n",
    "y_test = fmnist_test.targets.numpy()\n",
    "p_test = np.array([])\n",
    "for inputs, targets in test_loader:\n",
    "  # move data to GPU\n",
    "  inputs, targets = inputs.to(device), targets.to(device)\n",
    "\n",
    "  # Forward pass\n",
    "  outputs = model(inputs)\n",
    "\n",
    "  # Get prediction\n",
    "  _, predictions = torch.max(outputs, 1)\n",
    "  \n",
    "  # update p_test\n",
    "  p_test = np.concatenate((p_test, predictions.cpu().numpy()))\n",
    "\n",
    "cm = confusion_matrix(y_test, p_test)\n",
    "plot_confusion_matrix(cm, list(range(10)))"
   ]
  }
 ],
 "metadata": {
  "interpreter": {
   "hash": "9820c6239cdbb7db630939f5e05a5bf32e3e26a5f6ce0089fd4cbdc93b6da2ff"
  },
  "kernelspec": {
   "display_name": "Python 3.9.7 64-bit ('stonk': conda)",
   "language": "python",
   "name": "python3"
  },
  "language_info": {
   "codemirror_mode": {
    "name": "ipython",
    "version": 3
   },
   "file_extension": ".py",
   "mimetype": "text/x-python",
   "name": "python",
   "nbconvert_exporter": "python",
   "pygments_lexer": "ipython3",
   "version": "3.9.7"
  },
  "orig_nbformat": 4
 },
 "nbformat": 4,
 "nbformat_minor": 2
}
