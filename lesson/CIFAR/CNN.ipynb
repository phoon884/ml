{
 "cells": [
  {
   "cell_type": "code",
   "execution_count": 115,
   "metadata": {},
   "outputs": [],
   "source": [
    "import torch\n",
    "import torch.nn as nn\n",
    "import matplotlib.pyplot as plt\n",
    "import pandas as pd\n",
    "import numpy as np\n",
    "from torchvision import datasets\n",
    "from torchvision import transforms\n",
    "from datetime import datetime"
   ]
  },
  {
   "cell_type": "code",
   "execution_count": 116,
   "metadata": {},
   "outputs": [],
   "source": [
    "transformer_train = transforms.Compose([\n",
    "  transforms.RandomCrop(32, padding=4),\n",
    "  transforms.RandomHorizontalFlip(p=0.5),\n",
    "  transforms.RandomRotation(degrees=15),\n",
    "  transforms.RandomAffine(0, translate=(0.1, 0.5)),\n",
    "  transforms.ToTensor()                                            \n",
    "])"
   ]
  },
  {
   "cell_type": "code",
   "execution_count": 117,
   "metadata": {},
   "outputs": [
    {
     "name": "stdout",
     "output_type": "stream",
     "text": [
      "Files already downloaded and verified\n",
      "Files already downloaded and verified\n",
      "Files already downloaded and verified\n"
     ]
    }
   ],
   "source": [
    "batch_size = 48\n",
    "CIFAR_train = datasets.CIFAR10(\n",
    "    './data', download=True, transform=transformer_train)\n",
    "CIFAR_test = datasets.CIFAR10(\n",
    "    './data', download=True, train=False, transform=transformer_train)\n",
    "\n",
    "train_loader = torch.utils.data.DataLoader(dataset=CIFAR_train, \n",
    "                                           batch_size=batch_size, \n",
    "                                           shuffle=True)\n",
    "\n",
    "test_loader = torch.utils.data.DataLoader(dataset=CIFAR_test, \n",
    "                                          batch_size=batch_size, \n",
    "                                          shuffle=False)\n",
    "\n",
    "train_dataset_fixed = datasets.CIFAR10(\n",
    "    root='./data',\n",
    "    train=True,\n",
    "    transform=transforms.ToTensor(),\n",
    "    download=True) \n",
    "train_loader_fixed = torch.utils.data.DataLoader(\n",
    "    dataset=train_dataset_fixed,\n",
    "    batch_size=batch_size,\n",
    "    shuffle=False)\n",
    "\n",
    "classes = ('plane', 'car', 'bird', 'cat',\n",
    "           'deer', 'dog', 'frog', 'horse', 'ship', 'truck')\n"
   ]
  },
  {
   "cell_type": "code",
   "execution_count": 118,
   "metadata": {},
   "outputs": [],
   "source": [
    "def calculate_shapeHW(size, kernel_size, stride=1, padding=0, dilation=1):\n",
    "    if type(size) == int:\n",
    "        size = (size, size)\n",
    "    if type(kernel_size) == int:\n",
    "        kernel_size = (kernel_size, kernel_size)\n",
    "    if type(stride) == int:\n",
    "        stride = (stride, stride)\n",
    "    if type(padding) == int:\n",
    "        padding = (padding, padding)\n",
    "    if type(dilation) == int:\n",
    "        dilation = (dilation, dilation)\n",
    "    x = int((size[0] + 2 * padding[0] - dilation[0] * (kernel_size[0]-1) -1)/stride[0] +1)\n",
    "    y = int((size[1] + 2 * padding[1] - dilation[1] * (kernel_size[1]-1) -1)/stride[1] +1)\n",
    "    return x, y\n"
   ]
  },
  {
   "cell_type": "code",
   "execution_count": 119,
   "metadata": {},
   "outputs": [
    {
     "name": "stdout",
     "output_type": "stream",
     "text": [
      "50000\n",
      "(50000, 32, 32, 3)\n"
     ]
    }
   ],
   "source": [
    "print(len(CIFAR_train.targets))\n",
    "print((CIFAR_train.data.shape))"
   ]
  },
  {
   "cell_type": "code",
   "execution_count": 120,
   "metadata": {},
   "outputs": [
    {
     "data": {
      "text/plain": [
       "(16, 16)"
      ]
     },
     "execution_count": 120,
     "metadata": {},
     "output_type": "execute_result"
    }
   ],
   "source": [
    "out = calculate_shapeHW(32, kernel_size=3, padding=1)\n",
    "out = calculate_shapeHW(32, kernel_size=2, stride=2, padding=0, dilation=1)\n",
    "out"
   ]
  },
  {
   "cell_type": "code",
   "execution_count": 121,
   "metadata": {},
   "outputs": [],
   "source": [
    "class CNN(nn.Module):\n",
    "    def __init__(self,input_size,output_size,pix_size):\n",
    "        super(CNN, self).__init__()\n",
    "        self.conv1 = nn.Sequential(\n",
    "            nn.Conv2d(input_size, 32, kernel_size=3, padding=1),\n",
    "            nn.ReLU(),\n",
    "            nn.BatchNorm2d(32),\n",
    "            nn.Conv2d(32, 32, kernel_size=3, padding=1),\n",
    "            nn.ReLU(),\n",
    "            nn.BatchNorm2d(32),\n",
    "            nn.MaxPool2d(2),\n",
    "        )\n",
    "        self.conv2 = nn.Sequential(\n",
    "            nn.Conv2d(32, 64, kernel_size=3, padding=1),\n",
    "            nn.ReLU(),\n",
    "            nn.BatchNorm2d(64),\n",
    "            nn.Conv2d(64, 64, kernel_size=3, padding=1),\n",
    "            nn.ReLU(),\n",
    "            nn.BatchNorm2d(64),\n",
    "            nn.MaxPool2d(2),\n",
    "        )\n",
    "        self.conv3 = nn.Sequential(\n",
    "            nn.Conv2d(64, 128, kernel_size=3, padding=1),\n",
    "            nn.ReLU(),\n",
    "            nn.BatchNorm2d(128),\n",
    "            nn.Conv2d(128, 128, kernel_size=3, padding=1),\n",
    "            nn.ReLU(),\n",
    "            nn.BatchNorm2d(128),\n",
    "            nn.MaxPool2d(2),\n",
    "        )\n",
    "        pix_size = int(pix_size/(2**3))\n",
    "        self.fc = nn.Sequential(\n",
    "            nn.Dropout(0.2),\n",
    "            nn.Linear(128 * pix_size * pix_size, 1024),\n",
    "            nn.ReLU(),\n",
    "            nn.Dropout(0.2),\n",
    "            nn.Linear(1024, output_size)\n",
    "        )\n",
    "\n",
    "    def forward(self, input):\n",
    "        output = self.conv1(input)\n",
    "        output = self.conv2(output)\n",
    "        output = self.conv3(output)\n",
    "        output = output.view(output.size(0),-1)\n",
    "        output = self.fc(output)\n",
    "        return output"
   ]
  },
  {
   "cell_type": "code",
   "execution_count": 122,
   "metadata": {},
   "outputs": [],
   "source": [
    "output_size = len(set(CIFAR_train.targets))\n",
    "model = CNN(3,output_size,32)"
   ]
  },
  {
   "cell_type": "code",
   "execution_count": 123,
   "metadata": {},
   "outputs": [
    {
     "data": {
      "text/plain": [
       "CNN(\n",
       "  (conv1): Sequential(\n",
       "    (0): Conv2d(3, 32, kernel_size=(3, 3), stride=(1, 1), padding=(1, 1))\n",
       "    (1): ReLU()\n",
       "    (2): BatchNorm2d(32, eps=1e-05, momentum=0.1, affine=True, track_running_stats=True)\n",
       "    (3): Conv2d(32, 32, kernel_size=(3, 3), stride=(1, 1), padding=(1, 1))\n",
       "    (4): ReLU()\n",
       "    (5): BatchNorm2d(32, eps=1e-05, momentum=0.1, affine=True, track_running_stats=True)\n",
       "    (6): MaxPool2d(kernel_size=2, stride=2, padding=0, dilation=1, ceil_mode=False)\n",
       "  )\n",
       "  (conv2): Sequential(\n",
       "    (0): Conv2d(32, 64, kernel_size=(3, 3), stride=(1, 1), padding=(1, 1))\n",
       "    (1): ReLU()\n",
       "    (2): BatchNorm2d(64, eps=1e-05, momentum=0.1, affine=True, track_running_stats=True)\n",
       "    (3): Conv2d(64, 64, kernel_size=(3, 3), stride=(1, 1), padding=(1, 1))\n",
       "    (4): ReLU()\n",
       "    (5): BatchNorm2d(64, eps=1e-05, momentum=0.1, affine=True, track_running_stats=True)\n",
       "    (6): MaxPool2d(kernel_size=2, stride=2, padding=0, dilation=1, ceil_mode=False)\n",
       "  )\n",
       "  (conv3): Sequential(\n",
       "    (0): Conv2d(64, 128, kernel_size=(3, 3), stride=(1, 1), padding=(1, 1))\n",
       "    (1): ReLU()\n",
       "    (2): BatchNorm2d(128, eps=1e-05, momentum=0.1, affine=True, track_running_stats=True)\n",
       "    (3): Conv2d(128, 128, kernel_size=(3, 3), stride=(1, 1), padding=(1, 1))\n",
       "    (4): ReLU()\n",
       "    (5): BatchNorm2d(128, eps=1e-05, momentum=0.1, affine=True, track_running_stats=True)\n",
       "    (6): MaxPool2d(kernel_size=2, stride=2, padding=0, dilation=1, ceil_mode=False)\n",
       "  )\n",
       "  (fc): Sequential(\n",
       "    (0): Dropout(p=0.2, inplace=False)\n",
       "    (1): Linear(in_features=2048, out_features=1024, bias=True)\n",
       "    (2): ReLU()\n",
       "    (3): Dropout(p=0.2, inplace=False)\n",
       "    (4): Linear(in_features=1024, out_features=10, bias=True)\n",
       "  )\n",
       ")"
      ]
     },
     "execution_count": 123,
     "metadata": {},
     "output_type": "execute_result"
    }
   ],
   "source": [
    "device = torch.device(\"cuda:0\" if torch.cuda.is_available() else \"cpu\")\n",
    "model.to(device)"
   ]
  },
  {
   "cell_type": "code",
   "execution_count": 124,
   "metadata": {},
   "outputs": [],
   "source": [
    "criterion = nn.CrossEntropyLoss()\n",
    "optimizer = torch.optim.Adam(model.parameters())"
   ]
  },
  {
   "cell_type": "code",
   "execution_count": 125,
   "metadata": {},
   "outputs": [],
   "source": [
    "def batch_gd(model, criterion, optimizer, train_loader, test_loader, epochs):\n",
    "  train_losses = np.zeros(epochs)\n",
    "  test_losses = np.zeros(epochs)\n",
    "\n",
    "  for it in range(epochs):\n",
    "    model.train()\n",
    "    t0 = datetime.now()\n",
    "    train_loss = []\n",
    "    for inputs, targets in train_loader:\n",
    "      # move data to GPU\n",
    "      inputs, targets = inputs.to(device), targets.to(device)\n",
    "\n",
    "      # print(\"inputs.shape:\", inputs.shape)\n",
    "\n",
    "      # zero the parameter gradients\n",
    "      optimizer.zero_grad()\n",
    "\n",
    "      # Forward pass\n",
    "      # print(\"about to get model output\")\n",
    "      outputs = model(inputs)\n",
    "      # print(\"done getting model output\")\n",
    "      # print(\"outputs.shape:\", outputs.shape, \"targets.shape:\", targets.shape)\n",
    "      loss = criterion(outputs, targets)\n",
    "        \n",
    "      # Backward and optimize\n",
    "      # print(\"about to optimize\")\n",
    "      loss.backward()\n",
    "      optimizer.step()\n",
    "\n",
    "      train_loss.append(loss.item())\n",
    "\n",
    "    # Get train loss and test loss\n",
    "    train_loss = np.mean(train_loss) # a little misleading\n",
    "    \n",
    "    model.eval()\n",
    "    test_loss = []\n",
    "    for inputs, targets in test_loader:\n",
    "      inputs, targets = inputs.to(device), targets.to(device)\n",
    "      outputs = model(inputs)\n",
    "      loss = criterion(outputs, targets)\n",
    "      test_loss.append(loss.item())\n",
    "    test_loss = np.mean(test_loss)\n",
    "\n",
    "    # Save losses\n",
    "    train_losses[it] = train_loss\n",
    "    test_losses[it] = test_loss\n",
    "    \n",
    "    dt = datetime.now() - t0\n",
    "    print(f'Epoch {it+1}/{epochs}, Train Loss: {train_loss:.4f}, \\\n",
    "      Test Loss: {test_loss:.4f}, Duration: {dt}')\n",
    "  \n",
    "  return train_losses, test_losses"
   ]
  },
  {
   "cell_type": "code",
   "execution_count": 126,
   "metadata": {},
   "outputs": [
    {
     "name": "stdout",
     "output_type": "stream",
     "text": [
      "Epoch 1/80, Train Loss: 1.6830,       Test Loss: 1.5249, Duration: 0:00:24.187847\n",
      "Epoch 2/80, Train Loss: 1.3687,       Test Loss: 1.3130, Duration: 0:00:23.659524\n",
      "Epoch 3/80, Train Loss: 1.2131,       Test Loss: 1.1123, Duration: 0:00:24.959771\n",
      "Epoch 4/80, Train Loss: 1.1165,       Test Loss: 1.0487, Duration: 0:00:25.297042\n",
      "Epoch 5/80, Train Loss: 1.0465,       Test Loss: 0.9742, Duration: 0:00:24.416760\n",
      "Epoch 6/80, Train Loss: 0.9981,       Test Loss: 0.9332, Duration: 0:00:23.869995\n",
      "Epoch 7/80, Train Loss: 0.9428,       Test Loss: 0.9247, Duration: 0:00:23.636332\n",
      "Epoch 8/80, Train Loss: 0.9007,       Test Loss: 0.8511, Duration: 0:00:23.758783\n",
      "Epoch 9/80, Train Loss: 0.8703,       Test Loss: 0.8421, Duration: 0:00:23.716425\n",
      "Epoch 10/80, Train Loss: 0.8446,       Test Loss: 0.8390, Duration: 0:00:23.830860\n",
      "Epoch 11/80, Train Loss: 0.8278,       Test Loss: 0.7886, Duration: 0:00:23.980391\n",
      "Epoch 12/80, Train Loss: 0.8019,       Test Loss: 0.8209, Duration: 0:00:23.838568\n",
      "Epoch 13/80, Train Loss: 0.7836,       Test Loss: 0.7676, Duration: 0:00:23.857929\n",
      "Epoch 14/80, Train Loss: 0.7596,       Test Loss: 0.7403, Duration: 0:00:23.767386\n",
      "Epoch 15/80, Train Loss: 0.7432,       Test Loss: 0.7717, Duration: 0:00:23.677389\n",
      "Epoch 16/80, Train Loss: 0.7308,       Test Loss: 0.7229, Duration: 0:00:23.798753\n",
      "Epoch 17/80, Train Loss: 0.7140,       Test Loss: 0.7182, Duration: 0:00:23.745367\n",
      "Epoch 18/80, Train Loss: 0.7077,       Test Loss: 0.7317, Duration: 0:00:23.739432\n",
      "Epoch 19/80, Train Loss: 0.6951,       Test Loss: 0.7263, Duration: 0:00:23.639979\n",
      "Epoch 20/80, Train Loss: 0.6898,       Test Loss: 0.6680, Duration: 0:00:23.710884\n",
      "Epoch 21/80, Train Loss: 0.6667,       Test Loss: 0.7055, Duration: 0:00:23.576579\n",
      "Epoch 22/80, Train Loss: 0.6689,       Test Loss: 0.6857, Duration: 0:00:23.689334\n",
      "Epoch 23/80, Train Loss: 0.6593,       Test Loss: 0.6704, Duration: 0:00:23.786166\n",
      "Epoch 24/80, Train Loss: 0.6513,       Test Loss: 0.6518, Duration: 0:00:23.717426\n",
      "Epoch 25/80, Train Loss: 0.6448,       Test Loss: 0.6399, Duration: 0:00:23.715448\n",
      "Epoch 26/80, Train Loss: 0.6405,       Test Loss: 0.6711, Duration: 0:00:23.683513\n",
      "Epoch 27/80, Train Loss: 0.6281,       Test Loss: 0.6390, Duration: 0:00:23.707741\n",
      "Epoch 28/80, Train Loss: 0.6276,       Test Loss: 0.6597, Duration: 0:00:23.721502\n",
      "Epoch 29/80, Train Loss: 0.6207,       Test Loss: 0.6748, Duration: 0:00:23.611773\n",
      "Epoch 30/80, Train Loss: 0.6137,       Test Loss: 0.6356, Duration: 0:00:23.775039\n",
      "Epoch 31/80, Train Loss: 0.6039,       Test Loss: 0.6340, Duration: 0:00:24.036395\n",
      "Epoch 32/80, Train Loss: 0.5993,       Test Loss: 0.6598, Duration: 0:00:23.728608\n",
      "Epoch 33/80, Train Loss: 0.6048,       Test Loss: 0.6253, Duration: 0:00:23.589588\n",
      "Epoch 34/80, Train Loss: 0.5977,       Test Loss: 0.6508, Duration: 0:00:23.632111\n",
      "Epoch 35/80, Train Loss: 0.5946,       Test Loss: 0.6650, Duration: 0:00:23.750926\n",
      "Epoch 36/80, Train Loss: 0.5871,       Test Loss: 0.6220, Duration: 0:00:23.687612\n",
      "Epoch 37/80, Train Loss: 0.5823,       Test Loss: 0.6339, Duration: 0:00:23.635333\n",
      "Epoch 38/80, Train Loss: 0.5769,       Test Loss: 0.6199, Duration: 0:00:23.708382\n",
      "Epoch 39/80, Train Loss: 0.5716,       Test Loss: 0.5940, Duration: 0:00:23.694750\n",
      "Epoch 40/80, Train Loss: 0.5693,       Test Loss: 0.6041, Duration: 0:00:23.793608\n",
      "Epoch 41/80, Train Loss: 0.5706,       Test Loss: 0.5959, Duration: 0:00:25.086318\n",
      "Epoch 42/80, Train Loss: 0.5609,       Test Loss: 0.5966, Duration: 0:00:24.541499\n",
      "Epoch 43/80, Train Loss: 0.5621,       Test Loss: 0.6030, Duration: 0:00:23.924591\n",
      "Epoch 44/80, Train Loss: 0.5563,       Test Loss: 0.5706, Duration: 0:00:23.309877\n",
      "Epoch 45/80, Train Loss: 0.5547,       Test Loss: 0.6027, Duration: 0:00:23.558577\n",
      "Epoch 46/80, Train Loss: 0.5468,       Test Loss: 0.5817, Duration: 0:00:23.464726\n",
      "Epoch 47/80, Train Loss: 0.5525,       Test Loss: 0.5946, Duration: 0:00:23.961579\n",
      "Epoch 48/80, Train Loss: 0.5432,       Test Loss: 0.5842, Duration: 0:00:23.780918\n",
      "Epoch 49/80, Train Loss: 0.5418,       Test Loss: 0.5953, Duration: 0:00:23.709081\n",
      "Epoch 50/80, Train Loss: 0.5401,       Test Loss: 0.5856, Duration: 0:00:24.050536\n",
      "Epoch 51/80, Train Loss: 0.5324,       Test Loss: 0.5702, Duration: 0:00:23.218218\n",
      "Epoch 52/80, Train Loss: 0.5366,       Test Loss: 0.5949, Duration: 0:00:23.127289\n",
      "Epoch 53/80, Train Loss: 0.5322,       Test Loss: 0.6368, Duration: 0:00:22.938705\n",
      "Epoch 54/80, Train Loss: 0.5216,       Test Loss: 0.5942, Duration: 0:00:23.775480\n",
      "Epoch 55/80, Train Loss: 0.5212,       Test Loss: 0.5707, Duration: 0:00:24.473016\n",
      "Epoch 56/80, Train Loss: 0.5252,       Test Loss: 0.5891, Duration: 0:00:24.287484\n",
      "Epoch 57/80, Train Loss: 0.5239,       Test Loss: 0.5666, Duration: 0:00:24.203268\n",
      "Epoch 58/80, Train Loss: 0.5215,       Test Loss: 0.5901, Duration: 0:00:24.111206\n",
      "Epoch 59/80, Train Loss: 0.5175,       Test Loss: 0.5999, Duration: 0:00:23.996633\n",
      "Epoch 60/80, Train Loss: 0.5138,       Test Loss: 0.5536, Duration: 0:00:23.969957\n",
      "Epoch 61/80, Train Loss: 0.5140,       Test Loss: 0.5682, Duration: 0:00:24.081574\n",
      "Epoch 62/80, Train Loss: 0.5120,       Test Loss: 0.5871, Duration: 0:00:23.845324\n",
      "Epoch 63/80, Train Loss: 0.5109,       Test Loss: 0.5502, Duration: 0:00:23.568398\n",
      "Epoch 64/80, Train Loss: 0.5089,       Test Loss: 0.5509, Duration: 0:00:24.145563\n",
      "Epoch 65/80, Train Loss: 0.5088,       Test Loss: 0.5592, Duration: 0:00:23.532281\n",
      "Epoch 66/80, Train Loss: 0.5056,       Test Loss: 0.5599, Duration: 0:00:23.066974\n",
      "Epoch 67/80, Train Loss: 0.5051,       Test Loss: 0.5526, Duration: 0:00:22.988104\n",
      "Epoch 68/80, Train Loss: 0.5008,       Test Loss: 0.5561, Duration: 0:00:23.585155\n",
      "Epoch 69/80, Train Loss: 0.5008,       Test Loss: 0.5419, Duration: 0:00:23.039628\n",
      "Epoch 70/80, Train Loss: 0.4963,       Test Loss: 0.5466, Duration: 0:00:23.042716\n",
      "Epoch 71/80, Train Loss: 0.4985,       Test Loss: 0.5444, Duration: 0:00:23.647178\n",
      "Epoch 72/80, Train Loss: 0.4954,       Test Loss: 0.5537, Duration: 0:00:23.009099\n",
      "Epoch 73/80, Train Loss: 0.4925,       Test Loss: 0.5493, Duration: 0:00:23.220916\n",
      "Epoch 74/80, Train Loss: 0.4897,       Test Loss: 0.5404, Duration: 0:00:23.346249\n",
      "Epoch 75/80, Train Loss: 0.4906,       Test Loss: 0.5583, Duration: 0:00:22.697983\n",
      "Epoch 76/80, Train Loss: 0.4918,       Test Loss: 0.5529, Duration: 0:00:22.575476\n",
      "Epoch 77/80, Train Loss: 0.4917,       Test Loss: 0.5525, Duration: 0:00:22.652378\n",
      "Epoch 78/80, Train Loss: 0.4851,       Test Loss: 0.5444, Duration: 0:00:22.528645\n",
      "Epoch 79/80, Train Loss: 0.4830,       Test Loss: 0.5462, Duration: 0:00:22.668046\n",
      "Epoch 80/80, Train Loss: 0.4804,       Test Loss: 0.5659, Duration: 0:00:23.170895\n"
     ]
    }
   ],
   "source": [
    "train_losses, test_losses = batch_gd(\n",
    "    model, criterion, optimizer, train_loader, test_loader, epochs=80)"
   ]
  },
  {
   "cell_type": "code",
   "execution_count": 127,
   "metadata": {},
   "outputs": [],
   "source": [
    "torch.save(model, './savedmodel')"
   ]
  },
  {
   "cell_type": "code",
   "execution_count": 128,
   "metadata": {},
   "outputs": [
    {
     "data": {
      "image/png": "[encoded data removed]",
      "text/plain": [
       "<Figure size 432x288 with 1 Axes>"
      ]
     },
     "metadata": {
      "needs_background": "light"
     },
     "output_type": "display_data"
    }
   ],
   "source": [
    "plt.plot(train_losses, label='train loss')\n",
    "plt.plot(test_losses, label='test loss')\n",
    "plt.legend()\n",
    "plt.show()"
   ]
  },
  {
   "cell_type": "code",
   "execution_count": null,
   "metadata": {},
   "outputs": [],
   "source": [
    "model.eval()\n",
    "n_correct = 0.\n",
    "n_total = 0.\n",
    "for inputs, targets in train_loader_fixed:\n",
    "  # Move to GPU\n",
    "  inputs, targets = inputs.to(device), targets.to(device)\n",
    "\n",
    "  # Forward pass\n",
    "  outputs = model(inputs)\n",
    "\n",
    "  # Get prediction\n",
    "  # torch.max returns both max and argmax\n",
    "  _, predictions = torch.max(outputs, 1)\n",
    "  \n",
    "  # update counts\n",
    "  n_correct += (predictions == targets).sum().item()\n",
    "  n_total += targets.shape[0]\n",
    "\n",
    "train_acc = n_correct / n_total\n",
    "\n",
    "\n",
    "n_correct = 0.\n",
    "n_total = 0.\n",
    "for inputs, targets in test_loader:\n",
    "  # Move to GPU\n",
    "  inputs, targets = inputs.to(device), targets.to(device)\n",
    "  \n",
    "  # Forward pass\n",
    "  outputs = model(inputs)\n",
    "\n",
    "  # Get prediction\n",
    "  # torch.max returns both max and argmax\n",
    "  _, predictions = torch.max(outputs, 1)\n",
    "  \n",
    "  # update counts\n",
    "  n_correct += (predictions == targets).sum().item()\n",
    "  n_total += targets.shape[0]\n",
    "\n",
    "test_acc = n_correct / n_total\n",
    "print(f\"Train acc: {train_acc:.4f}, Test acc: {test_acc:.4f}\")"
   ]
  }
 ],
 "metadata": {
  "interpreter": {
   "hash": "9820c6239cdbb7db630939f5e05a5bf32e3e26a5f6ce0089fd4cbdc93b6da2ff"
  },
  "kernelspec": {
   "display_name": "Python 3.9.7 64-bit ('stonk': conda)",
   "language": "python",
   "name": "python3"
  },
  "language_info": {
   "codemirror_mode": {
    "name": "ipython",
    "version": 3
   },
   "file_extension": ".py",
   "mimetype": "text/x-python",
   "name": "python",
   "nbconvert_exporter": "python",
   "pygments_lexer": "ipython3",
   "version": "3.9.7"
  },
  "orig_nbformat": 4
 },
 "nbformat": 4,
 "nbformat_minor": 2
}
