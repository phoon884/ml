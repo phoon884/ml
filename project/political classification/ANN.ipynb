{
 "cells": [
  {
   "cell_type": "markdown",
   "metadata": {},
   "source": [
    "# Politics classifier with ANN as baseline"
   ]
  },
  {
   "cell_type": "code",
   "execution_count": 25,
   "metadata": {},
   "outputs": [],
   "source": [
    "import torch\n",
    "import torch.nn as nn\n",
    "import torchtext.data as ttd\n",
    "from torchtext.vocab import GloVe\n",
    "import numpy as np\n",
    "import pandas as pd\n",
    "import matplotlib.pyplot as plt\n",
    "from sklearn.model_selection import train_test_split"
   ]
  },
  {
   "cell_type": "code",
   "execution_count": 26,
   "metadata": {},
   "outputs": [
    {
     "data": {
      "text/html": [
       "<div>\n",
       "<style scoped>\n",
       "    .dataframe tbody tr th:only-of-type {\n",
       "        vertical-align: middle;\n",
       "    }\n",
       "\n",
       "    .dataframe tbody tr th {\n",
       "        vertical-align: top;\n",
       "    }\n",
       "\n",
       "    .dataframe thead th {\n",
       "        text-align: right;\n",
       "    }\n",
       "</style>\n",
       "<table border=\"1\" class=\"dataframe\">\n",
       "  <thead>\n",
       "    <tr style=\"text-align: right;\">\n",
       "      <th></th>\n",
       "      <th>text</th>\n",
       "      <th>classification</th>\n",
       "    </tr>\n",
       "  </thead>\n",
       "  <tbody>\n",
       "    <tr>\n",
       "      <th>0</th>\n",
       "      <td>Opinion | Glenn Youngkin’s No-Guilt History of...</td>\n",
       "      <td>left</td>\n",
       "    </tr>\n",
       "    <tr>\n",
       "      <th>1</th>\n",
       "      <td>Opinion | Glenn Youngkin’s No-Guilt History of...</td>\n",
       "      <td>left</td>\n",
       "    </tr>\n",
       "    <tr>\n",
       "      <th>2</th>\n",
       "      <td>Won't be long, and they'll be banning the teac...</td>\n",
       "      <td>left</td>\n",
       "    </tr>\n",
       "    <tr>\n",
       "      <th>3</th>\n",
       "      <td>Federal Standards for education are needed. Wh...</td>\n",
       "      <td>left</td>\n",
       "    </tr>\n",
       "    <tr>\n",
       "      <th>4</th>\n",
       "      <td>They don't want to be made uncomfortable by th...</td>\n",
       "      <td>left</td>\n",
       "    </tr>\n",
       "    <tr>\n",
       "      <th>...</th>\n",
       "      <td>...</td>\n",
       "      <td>...</td>\n",
       "    </tr>\n",
       "    <tr>\n",
       "      <th>28121</th>\n",
       "      <td>Remember when talking about covid or the Biden...</td>\n",
       "      <td>right</td>\n",
       "    </tr>\n",
       "    <tr>\n",
       "      <th>28122</th>\n",
       "      <td>When the science changes to match the politica...</td>\n",
       "      <td>right</td>\n",
       "    </tr>\n",
       "    <tr>\n",
       "      <th>28123</th>\n",
       "      <td>I personally can't wait for covid to inevitabl...</td>\n",
       "      <td>right</td>\n",
       "    </tr>\n",
       "    <tr>\n",
       "      <th>28124</th>\n",
       "      <td>I keep seeing people say this but what changed...</td>\n",
       "      <td>right</td>\n",
       "    </tr>\n",
       "    <tr>\n",
       "      <th>28125</th>\n",
       "      <td>If they had given mRNA “vaccines” more time to...</td>\n",
       "      <td>right</td>\n",
       "    </tr>\n",
       "  </tbody>\n",
       "</table>\n",
       "<p>28126 rows × 2 columns</p>\n",
       "</div>"
      ],
      "text/plain": [
       "                                                    text classification\n",
       "0      Opinion | Glenn Youngkin’s No-Guilt History of...           left\n",
       "1      Opinion | Glenn Youngkin’s No-Guilt History of...           left\n",
       "2      Won't be long, and they'll be banning the teac...           left\n",
       "3      Federal Standards for education are needed. Wh...           left\n",
       "4      They don't want to be made uncomfortable by th...           left\n",
       "...                                                  ...            ...\n",
       "28121  Remember when talking about covid or the Biden...          right\n",
       "28122  When the science changes to match the politica...          right\n",
       "28123  I personally can't wait for covid to inevitabl...          right\n",
       "28124  I keep seeing people say this but what changed...          right\n",
       "28125  If they had given mRNA “vaccines” more time to...          right\n",
       "\n",
       "[28126 rows x 2 columns]"
      ]
     },
     "execution_count": 26,
     "metadata": {},
     "output_type": "execute_result"
    }
   ],
   "source": [
    "df = pd.read_csv(\"dataset_finalized.csv\",index_col=0)\n",
    "df"
   ]
  },
  {
   "cell_type": "code",
   "execution_count": 27,
   "metadata": {},
   "outputs": [],
   "source": [
    "df['classification'] = df['classification'].map({'left': 0, 'right': 1})\n"
   ]
  },
  {
   "cell_type": "code",
   "execution_count": 28,
   "metadata": {},
   "outputs": [
    {
     "data": {
      "text/html": [
       "<div>\n",
       "<style scoped>\n",
       "    .dataframe tbody tr th:only-of-type {\n",
       "        vertical-align: middle;\n",
       "    }\n",
       "\n",
       "    .dataframe tbody tr th {\n",
       "        vertical-align: top;\n",
       "    }\n",
       "\n",
       "    .dataframe thead th {\n",
       "        text-align: right;\n",
       "    }\n",
       "</style>\n",
       "<table border=\"1\" class=\"dataframe\">\n",
       "  <thead>\n",
       "    <tr style=\"text-align: right;\">\n",
       "      <th></th>\n",
       "      <th>text</th>\n",
       "      <th>classification</th>\n",
       "    </tr>\n",
       "  </thead>\n",
       "  <tbody>\n",
       "    <tr>\n",
       "      <th>0</th>\n",
       "      <td>[Opinion, &amp;#124;, Glenn, Youngkin, ’, s, No-Gu...</td>\n",
       "      <td>0.0</td>\n",
       "    </tr>\n",
       "    <tr>\n",
       "      <th>1</th>\n",
       "      <td>[Opinion, &amp;#124;, Glenn, Youngkin, ’, s, No-Gu...</td>\n",
       "      <td>0.0</td>\n",
       "    </tr>\n",
       "    <tr>\n",
       "      <th>2</th>\n",
       "      <td>[Won, ', t, be, long, ,, and, they, ', ll, be,...</td>\n",
       "      <td>0.0</td>\n",
       "    </tr>\n",
       "    <tr>\n",
       "      <th>3</th>\n",
       "      <td>[Federal, Standards, for, education, are, need...</td>\n",
       "      <td>0.0</td>\n",
       "    </tr>\n",
       "    <tr>\n",
       "      <th>4</th>\n",
       "      <td>[They, don, ', t, want, to, be, made, uncomfor...</td>\n",
       "      <td>0.0</td>\n",
       "    </tr>\n",
       "    <tr>\n",
       "      <th>...</th>\n",
       "      <td>...</td>\n",
       "      <td>...</td>\n",
       "    </tr>\n",
       "    <tr>\n",
       "      <th>28121</th>\n",
       "      <td>[Remember, when, talking, about, covid, or, th...</td>\n",
       "      <td>1.0</td>\n",
       "    </tr>\n",
       "    <tr>\n",
       "      <th>28122</th>\n",
       "      <td>[When, the, science, changes, to, match, the, ...</td>\n",
       "      <td>1.0</td>\n",
       "    </tr>\n",
       "    <tr>\n",
       "      <th>28123</th>\n",
       "      <td>[I, personally, can, ', t, wait, for, covid, t...</td>\n",
       "      <td>1.0</td>\n",
       "    </tr>\n",
       "    <tr>\n",
       "      <th>28124</th>\n",
       "      <td>[I, keep, seeing, people, say, this, but, what...</td>\n",
       "      <td>1.0</td>\n",
       "    </tr>\n",
       "    <tr>\n",
       "      <th>28125</th>\n",
       "      <td>[If, they, had, given, mRNA, “vaccines, ”, mor...</td>\n",
       "      <td>1.0</td>\n",
       "    </tr>\n",
       "  </tbody>\n",
       "</table>\n",
       "<p>28126 rows × 2 columns</p>\n",
       "</div>"
      ],
      "text/plain": [
       "                                                    text  classification\n",
       "0      [Opinion, &#124;, Glenn, Youngkin, ’, s, No-Gu...             0.0\n",
       "1      [Opinion, &#124;, Glenn, Youngkin, ’, s, No-Gu...             0.0\n",
       "2      [Won, ', t, be, long, ,, and, they, ', ll, be,...             0.0\n",
       "3      [Federal, Standards, for, education, are, need...             0.0\n",
       "4      [They, don, ', t, want, to, be, made, uncomfor...             0.0\n",
       "...                                                  ...             ...\n",
       "28121  [Remember, when, talking, about, covid, or, th...             1.0\n",
       "28122  [When, the, science, changes, to, match, the, ...             1.0\n",
       "28123  [I, personally, can, ', t, wait, for, covid, t...             1.0\n",
       "28124  [I, keep, seeing, people, say, this, but, what...             1.0\n",
       "28125  [If, they, had, given, mRNA, “vaccines, ”, mor...             1.0\n",
       "\n",
       "[28126 rows x 2 columns]"
      ]
     },
     "execution_count": 28,
     "metadata": {},
     "output_type": "execute_result"
    }
   ],
   "source": [
    "tonkenized_df = pd.DataFrame()\n",
    "tokenizer = ttd.utils.get_tokenizer(\"toktok\")\n",
    "for index , row in df.iterrows(): \n",
    "    js = {\n",
    "        \"text\": tokenizer(row[\"text\"]),\n",
    "        \"classification\": row[\"classification\"]\n",
    "    }\n",
    "    tonkenized_df = tonkenized_df.append(js,ignore_index = True)\n",
    "\n",
    "tonkenized_df"
   ]
  },
  {
   "cell_type": "code",
   "execution_count": 41,
   "metadata": {},
   "outputs": [
    {
     "ename": "TypeError",
     "evalue": "unhashable type: 'list'",
     "output_type": "error",
     "traceback": [
      "\u001b[1;31m---------------------------------------------------------------------------\u001b[0m",
      "\u001b[1;31mTypeError\u001b[0m                                 Traceback (most recent call last)",
      "\u001b[1;32m~\\AppData\\Local\\Temp\\ipykernel_39132\\3812990744.py\u001b[0m in \u001b[0;36m<module>\u001b[1;34m\u001b[0m\n\u001b[0;32m      1\u001b[0m \u001b[0mvec\u001b[0m  \u001b[1;33m=\u001b[0m \u001b[0mGloVe\u001b[0m\u001b[1;33m(\u001b[0m\u001b[1;34m\"twitter.27B\"\u001b[0m\u001b[1;33m,\u001b[0m\u001b[0mdim\u001b[0m\u001b[1;33m=\u001b[0m\u001b[1;36m25\u001b[0m\u001b[1;33m)\u001b[0m\u001b[1;33m\u001b[0m\u001b[1;33m\u001b[0m\u001b[0m\n\u001b[1;32m----> 2\u001b[1;33m \u001b[0mvec\u001b[0m\u001b[1;33m[\u001b[0m\u001b[1;33m[\u001b[0m\u001b[1;34m'here'\u001b[0m\u001b[1;33m,\u001b[0m \u001b[1;34m'is'\u001b[0m\u001b[1;33m,\u001b[0m \u001b[1;34m'an'\u001b[0m\u001b[1;33m,\u001b[0m \u001b[1;34m'example'\u001b[0m\u001b[1;33m]\u001b[0m\u001b[1;33m]\u001b[0m\u001b[1;33m\u001b[0m\u001b[1;33m\u001b[0m\u001b[0m\n\u001b[0m",
      "\u001b[1;32m~\\.conda\\envs\\stonk\\lib\\site-packages\\torchtext\\vocab\\vectors.py\u001b[0m in \u001b[0;36m__getitem__\u001b[1;34m(self, token)\u001b[0m\n\u001b[0;32m     60\u001b[0m \u001b[1;33m\u001b[0m\u001b[0m\n\u001b[0;32m     61\u001b[0m     \u001b[1;32mdef\u001b[0m \u001b[0m__getitem__\u001b[0m\u001b[1;33m(\u001b[0m\u001b[0mself\u001b[0m\u001b[1;33m,\u001b[0m \u001b[0mtoken\u001b[0m\u001b[1;33m)\u001b[0m\u001b[1;33m:\u001b[0m\u001b[1;33m\u001b[0m\u001b[1;33m\u001b[0m\u001b[0m\n\u001b[1;32m---> 62\u001b[1;33m         \u001b[1;32mif\u001b[0m \u001b[0mtoken\u001b[0m \u001b[1;32min\u001b[0m \u001b[0mself\u001b[0m\u001b[1;33m.\u001b[0m\u001b[0mstoi\u001b[0m\u001b[1;33m:\u001b[0m\u001b[1;33m\u001b[0m\u001b[1;33m\u001b[0m\u001b[0m\n\u001b[0m\u001b[0;32m     63\u001b[0m             \u001b[1;32mreturn\u001b[0m \u001b[0mself\u001b[0m\u001b[1;33m.\u001b[0m\u001b[0mvectors\u001b[0m\u001b[1;33m[\u001b[0m\u001b[0mself\u001b[0m\u001b[1;33m.\u001b[0m\u001b[0mstoi\u001b[0m\u001b[1;33m[\u001b[0m\u001b[0mtoken\u001b[0m\u001b[1;33m]\u001b[0m\u001b[1;33m]\u001b[0m\u001b[1;33m\u001b[0m\u001b[1;33m\u001b[0m\u001b[0m\n\u001b[0;32m     64\u001b[0m         \u001b[1;32melse\u001b[0m\u001b[1;33m:\u001b[0m\u001b[1;33m\u001b[0m\u001b[1;33m\u001b[0m\u001b[0m\n",
      "\u001b[1;31mTypeError\u001b[0m: unhashable type: 'list'"
     ]
    }
   ],
   "source": [
    "vec  = GloVe(\"twitter.27B\",dim=25)\n",
    "vec[['here', 'is', 'an', 'example']]"
   ]
  },
  {
   "cell_type": "code",
   "execution_count": 30,
   "metadata": {},
   "outputs": [],
   "source": [
    "X = torch.zeros(len(tonkenized_df), 25)\n",
    "\n",
    "for index , row in df.iterrows(): \n",
    "    ret = vec.get_vecs_by_tokens(tonkenized_df.iloc[index][\"text\"], lower_case_backup=True)\n",
    "    X[index, :] = torch.mean(ret, dim=0)"
   ]
  },
  {
   "cell_type": "code",
   "execution_count": 31,
   "metadata": {},
   "outputs": [],
   "source": [
    "Y = tonkenized_df[\"classification\"]\n",
    "Y = torch.from_numpy(Y.to_numpy()).reshape(-1,1)\n",
    "Y = Y.float()\n",
    "X_train, X_test, y_train, y_test = train_test_split(X, Y, test_size=0.33, random_state=49)\n",
    "model = nn.Sequential(\n",
    "    nn.Linear(X_train.size(1),20),\n",
    "    nn.ReLU(),\n",
    "    nn.Linear(20,20),\n",
    "    nn.ReLU(),\n",
    "    nn.Linear(20,1),\n",
    "    nn.Sigmoid()\n",
    ")\n"
   ]
  },
  {
   "cell_type": "code",
   "execution_count": 33,
   "metadata": {},
   "outputs": [],
   "source": [
    "criterion = nn.BCELoss()\n",
    "optimizer = torch.optim.Adam(model.parameters(),lr = 1e-4)"
   ]
  },
  {
   "cell_type": "code",
   "execution_count": 34,
   "metadata": {},
   "outputs": [
    {
     "data": {
      "image/png": "[encoded data removed]",
      "text/plain": [
       "<Figure size 432x288 with 1 Axes>"
      ]
     },
     "metadata": {
      "needs_background": "light"
     },
     "output_type": "display_data"
    }
   ],
   "source": [
    "\n",
    "num_epochs = 3000 #model overfits after 3000 epochs\n",
    "loss_train_list = np.zeros(num_epochs)\n",
    "loss_test_list = np.zeros(num_epochs)\n",
    "acc_train_list = np.zeros(num_epochs)\n",
    "acc_test_list = np.zeros(num_epochs)\n",
    "for i in range(num_epochs):\n",
    "    optimizer.zero_grad()\n",
    "    y_result = model(X_train)\n",
    "    loss_train = criterion(y_result,y_train)\n",
    "    loss_train_list[i] = loss_train.item()\n",
    "\n",
    "    train_acc = np.mean(np.round(y_result.detach().numpy()) == np.round(y_train.detach().numpy()))\n",
    "    acc_train_list[i] = train_acc\n",
    "    \n",
    "    y_result = model(X_test)\n",
    "    loss_test = criterion(y_result,y_test)\n",
    "    loss_test_list[i] = loss_test.item()\n",
    "    \n",
    "    test_acc = np.mean(np.round(y_result.detach().numpy()) == np.round(y_test.detach().numpy()))\n",
    "    acc_test_list[i] = test_acc\n",
    "\n",
    "    loss_train.backward()\n",
    "    optimizer.step()\n",
    "\n",
    "plt.plot(loss_train_list, label = \"loss_train_list\")\n",
    "plt.plot(loss_test_list, label = \"loss_test_list\")\n",
    "plt.legend()\n",
    "plt.show()"
   ]
  },
  {
   "cell_type": "code",
   "execution_count": 35,
   "metadata": {},
   "outputs": [
    {
     "data": {
      "image/png": "[encoded data removed]",
      "text/plain": [
       "<Figure size 432x288 with 1 Axes>"
      ]
     },
     "metadata": {
      "needs_background": "light"
     },
     "output_type": "display_data"
    }
   ],
   "source": [
    "plt.plot(acc_test_list, label = \"acc_test_list\")\n",
    "plt.plot(acc_train_list, label = \"acc_train_list\")\n",
    "plt.legend()\n",
    "plt.show()"
   ]
  },
  {
   "cell_type": "code",
   "execution_count": 36,
   "metadata": {},
   "outputs": [],
   "source": [
    "def politic_classifier(text):\n",
    "    text = tokenizer(text)\n",
    "    text = vec.get_vecs_by_tokens(text, lower_case_backup=True)\n",
    "    text = torch.mean(text,dim=0)\n",
    "    output = model(text)\n",
    "    print(output)\n",
    "    if output.detach().item() < 0.5:\n",
    "        print(\"The text is written by a leftist\")\n",
    "    else:\n",
    "        print(\"The text is written by a rightist\")"
   ]
  },
  {
   "cell_type": "code",
   "execution_count": 37,
   "metadata": {},
   "outputs": [
    {
     "name": "stdout",
     "output_type": "stream",
     "text": [
      "tensor([0.5191], grad_fn=<SigmoidBackward0>)\n",
      "The text is written by a rightist\n"
     ]
    }
   ],
   "source": [
    "politic_classifier(\"Republican propaganda has literally melted his brain into a facade of what it used to be.\") #text from r/politics which is not in the dataset\n"
   ]
  },
  {
   "cell_type": "code",
   "execution_count": 38,
   "metadata": {},
   "outputs": [
    {
     "data": {
      "text/plain": [
       "tensor(0.5009)"
      ]
     },
     "execution_count": 38,
     "metadata": {},
     "output_type": "execute_result"
    }
   ],
   "source": [
    "y_train.mean()"
   ]
  },
  {
   "cell_type": "code",
   "execution_count": 39,
   "metadata": {},
   "outputs": [
    {
     "name": "stdout",
     "output_type": "stream",
     "text": [
      "tensor([0.5533], grad_fn=<SigmoidBackward0>)\n",
      "The text is written by a rightist\n"
     ]
    }
   ],
   "source": [
    "politic_classifier(\"As a conservative i think that\")"
   ]
  }
 ],
 "metadata": {
  "interpreter": {
   "hash": "9820c6239cdbb7db630939f5e05a5bf32e3e26a5f6ce0089fd4cbdc93b6da2ff"
  },
  "kernelspec": {
   "display_name": "Python 3.9.7 64-bit ('stonk': conda)",
   "language": "python",
   "name": "python3"
  },
  "language_info": {
   "codemirror_mode": {
    "name": "ipython",
    "version": 3
   },
   "file_extension": ".py",
   "mimetype": "text/x-python",
   "name": "python",
   "nbconvert_exporter": "python",
   "pygments_lexer": "ipython3",
   "version": "3.9.7"
  },
  "orig_nbformat": 4
 },
 "nbformat": 4,
 "nbformat_minor": 2
}
