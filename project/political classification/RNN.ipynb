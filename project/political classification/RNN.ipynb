{
 "cells": [
  {
   "cell_type": "code",
   "execution_count": 53,
   "metadata": {},
   "outputs": [],
   "source": [
    "import torch\n",
    "import torch.nn as nn\n",
    "import numpy as np\n",
    "import matplotlib.pyplot as plt\n",
    "from torch.utils.data import DataLoader\n",
    "from reddit_dataset import PoliticalStancesDataset"
   ]
  },
  {
   "cell_type": "code",
   "execution_count": 54,
   "metadata": {},
   "outputs": [],
   "source": [
    "train_data = PoliticalStancesDataset(\"./dataset_finalized.csv\", train=True)\n",
    "test_data = PoliticalStancesDataset(\"./dataset_finalized.csv\", train=False)\n",
    "train_loader = DataLoader(train_data, batch_size=64, shuffle=True)\n",
    "test_loader = DataLoader(test_data, batch_size=64, shuffle=True)"
   ]
  },
  {
   "cell_type": "code",
   "execution_count": 55,
   "metadata": {},
   "outputs": [],
   "source": [
    "device = torch.device(\"cuda:0\" if torch.cuda.is_available() else  \"cpu\")\n",
    "#device = torch.device(\"cpu\")"
   ]
  },
  {
   "cell_type": "code",
   "execution_count": 56,
   "metadata": {},
   "outputs": [],
   "source": [
    "class RNN(nn.Module):\n",
    "    def __init__(self, num_inputs, num_hidden, num_rnnlayers, num_outputs,dropout):\n",
    "        super(RNN, self).__init__()\n",
    "        self.num_inputs = num_inputs\n",
    "        self.num_hidden = num_hidden\n",
    "        self.num_rnnlayers = num_rnnlayers\n",
    "        self.num_outputs = num_outputs\n",
    "        self.sigmoid = nn.Sigmoid()\n",
    "        self.rnn = nn.LSTM(\n",
    "            input_size=self.num_inputs,\n",
    "            hidden_size=self.num_hidden,\n",
    "            num_layers=self.num_rnnlayers,\n",
    "            batch_first=True,\n",
    "            dropout = dropout\n",
    "            )\n",
    "        self.fc = nn.Linear(self.num_hidden, self.num_outputs)\n",
    "    def forward(self,X): \n",
    "        h0 = torch.zeros(self.num_rnnlayers, X.size(0),\n",
    "                         self.num_hidden,device = device)\n",
    "        c0 = torch.zeros(self.num_rnnlayers, X.size(0),\n",
    "                         self.num_hidden,device = device)\n",
    "        out, _ = self.rnn(X, (h0, c0))\n",
    "        out, _ = torch.max(out, 1)\n",
    "        out = self.fc(out)\n",
    "\n",
    "        return out"
   ]
  },
  {
   "cell_type": "code",
   "execution_count": 57,
   "metadata": {},
   "outputs": [],
   "source": [
    "model = RNN(num_inputs=25, num_hidden=80, num_rnnlayers=4, num_outputs=1, dropout = 0.4)\n",
    "model.to(device)\n",
    "criterion = nn.BCEWithLogitsLoss()\n",
    "optimizer = torch.optim.Adam(model.parameters(),lr = 1e-4)"
   ]
  },
  {
   "cell_type": "code",
   "execution_count": 58,
   "metadata": {},
   "outputs": [],
   "source": [
    "def batch_gd(model, criterion, optimizer, train_loader, test_loader, epochs):\n",
    "  train_losses = np.zeros(epochs)\n",
    "  test_losses = np.zeros(epochs)\n",
    "\n",
    "  for it in range(epochs):\n",
    "    model.train()\n",
    "    train_loss = []\n",
    "    for inputs, targets in train_loader:\n",
    "      # move data to GPU\n",
    "      inputs, targets = inputs.to(device), targets.to(device)\n",
    "\n",
    "      # zero the parameter gradients\n",
    "      optimizer.zero_grad()\n",
    "\n",
    "      # Forward pass\n",
    "      outputs = model(inputs)\n",
    "      loss = criterion(outputs, targets)\n",
    "        \n",
    "      # Backward and optimize\n",
    "      loss.backward()\n",
    "      optimizer.step()\n",
    "\n",
    "      train_loss.append(loss.item())\n",
    "\n",
    "    # Get train loss and test loss\n",
    "    train_loss = np.mean(train_loss) # a little misleading\n",
    "    \n",
    "    model.eval()\n",
    "    test_loss = []\n",
    "    for inputs, targets in test_loader:\n",
    "      inputs, targets = inputs.to(device), targets.to(device)\n",
    "      outputs = model(inputs)\n",
    "      loss = criterion(outputs, targets)\n",
    "      test_loss.append(loss.item())\n",
    "    test_loss = np.mean(test_loss)\n",
    "\n",
    "    # Save losses\n",
    "    train_losses[it] = train_loss\n",
    "    test_losses[it] = test_loss\n",
    "    \n",
    "    print(f'Epoch {it+1}/{epochs}, Train Loss: {train_loss:.4f}, \\\n",
    "      Test Loss: {test_loss:.4f}')\n",
    "  \n",
    "  return train_losses, test_losses"
   ]
  },
  {
   "cell_type": "code",
   "execution_count": 59,
   "metadata": {},
   "outputs": [
    {
     "name": "stdout",
     "output_type": "stream",
     "text": [
      "Epoch 1/70, Train Loss: 0.6930,       Test Loss: 0.6926\n",
      "Epoch 2/70, Train Loss: 0.6804,       Test Loss: 0.6737\n",
      "Epoch 3/70, Train Loss: 0.6716,       Test Loss: 0.6739\n",
      "Epoch 4/70, Train Loss: 0.6677,       Test Loss: 0.6676\n",
      "Epoch 5/70, Train Loss: 0.6659,       Test Loss: 0.6664\n",
      "Epoch 6/70, Train Loss: 0.6639,       Test Loss: 0.6628\n",
      "Epoch 7/70, Train Loss: 0.6622,       Test Loss: 0.6681\n",
      "Epoch 8/70, Train Loss: 0.6616,       Test Loss: 0.6614\n",
      "Epoch 9/70, Train Loss: 0.6601,       Test Loss: 0.6591\n",
      "Epoch 10/70, Train Loss: 0.6587,       Test Loss: 0.6591\n",
      "Epoch 11/70, Train Loss: 0.6569,       Test Loss: 0.6572\n",
      "Epoch 12/70, Train Loss: 0.6560,       Test Loss: 0.6620\n",
      "Epoch 13/70, Train Loss: 0.6546,       Test Loss: 0.6552\n",
      "Epoch 14/70, Train Loss: 0.6529,       Test Loss: 0.6529\n",
      "Epoch 15/70, Train Loss: 0.6527,       Test Loss: 0.6524\n",
      "Epoch 16/70, Train Loss: 0.6510,       Test Loss: 0.6507\n",
      "Epoch 17/70, Train Loss: 0.6497,       Test Loss: 0.6502\n",
      "Epoch 18/70, Train Loss: 0.6482,       Test Loss: 0.6505\n",
      "Epoch 19/70, Train Loss: 0.6469,       Test Loss: 0.6459\n",
      "Epoch 20/70, Train Loss: 0.6447,       Test Loss: 0.6480\n",
      "Epoch 21/70, Train Loss: 0.6434,       Test Loss: 0.6431\n",
      "Epoch 22/70, Train Loss: 0.6416,       Test Loss: 0.6430\n",
      "Epoch 23/70, Train Loss: 0.6411,       Test Loss: 0.6413\n",
      "Epoch 24/70, Train Loss: 0.6385,       Test Loss: 0.6398\n",
      "Epoch 25/70, Train Loss: 0.6370,       Test Loss: 0.6407\n",
      "Epoch 26/70, Train Loss: 0.6364,       Test Loss: 0.6426\n",
      "Epoch 27/70, Train Loss: 0.6370,       Test Loss: 0.6378\n",
      "Epoch 28/70, Train Loss: 0.6343,       Test Loss: 0.6385\n",
      "Epoch 29/70, Train Loss: 0.6331,       Test Loss: 0.6370\n",
      "Epoch 30/70, Train Loss: 0.6320,       Test Loss: 0.6362\n",
      "Epoch 31/70, Train Loss: 0.6310,       Test Loss: 0.6371\n",
      "Epoch 32/70, Train Loss: 0.6308,       Test Loss: 0.6353\n",
      "Epoch 33/70, Train Loss: 0.6292,       Test Loss: 0.6355\n",
      "Epoch 34/70, Train Loss: 0.6278,       Test Loss: 0.6370\n",
      "Epoch 35/70, Train Loss: 0.6284,       Test Loss: 0.6343\n",
      "Epoch 36/70, Train Loss: 0.6275,       Test Loss: 0.6368\n",
      "Epoch 37/70, Train Loss: 0.6270,       Test Loss: 0.6395\n",
      "Epoch 38/70, Train Loss: 0.6249,       Test Loss: 0.6330\n",
      "Epoch 39/70, Train Loss: 0.6228,       Test Loss: 0.6329\n",
      "Epoch 40/70, Train Loss: 0.6224,       Test Loss: 0.6348\n",
      "Epoch 41/70, Train Loss: 0.6214,       Test Loss: 0.6388\n",
      "Epoch 42/70, Train Loss: 0.6204,       Test Loss: 0.6306\n",
      "Epoch 43/70, Train Loss: 0.6195,       Test Loss: 0.6303\n",
      "Epoch 44/70, Train Loss: 0.6178,       Test Loss: 0.6307\n",
      "Epoch 45/70, Train Loss: 0.6174,       Test Loss: 0.6307\n",
      "Epoch 46/70, Train Loss: 0.6173,       Test Loss: 0.6300\n",
      "Epoch 47/70, Train Loss: 0.6160,       Test Loss: 0.6358\n",
      "Epoch 48/70, Train Loss: 0.6150,       Test Loss: 0.6300\n",
      "Epoch 49/70, Train Loss: 0.6138,       Test Loss: 0.6286\n",
      "Epoch 50/70, Train Loss: 0.6142,       Test Loss: 0.6305\n",
      "Epoch 51/70, Train Loss: 0.6126,       Test Loss: 0.6337\n",
      "Epoch 52/70, Train Loss: 0.6117,       Test Loss: 0.6280\n",
      "Epoch 53/70, Train Loss: 0.6113,       Test Loss: 0.6320\n",
      "Epoch 54/70, Train Loss: 0.6120,       Test Loss: 0.6275\n",
      "Epoch 55/70, Train Loss: 0.6086,       Test Loss: 0.6267\n",
      "Epoch 56/70, Train Loss: 0.6079,       Test Loss: 0.6277\n",
      "Epoch 57/70, Train Loss: 0.6071,       Test Loss: 0.6285\n",
      "Epoch 58/70, Train Loss: 0.6063,       Test Loss: 0.6310\n",
      "Epoch 59/70, Train Loss: 0.6062,       Test Loss: 0.6252\n",
      "Epoch 60/70, Train Loss: 0.6046,       Test Loss: 0.6287\n",
      "Epoch 61/70, Train Loss: 0.6038,       Test Loss: 0.6284\n",
      "Epoch 62/70, Train Loss: 0.6031,       Test Loss: 0.6277\n",
      "Epoch 63/70, Train Loss: 0.6021,       Test Loss: 0.6394\n",
      "Epoch 64/70, Train Loss: 0.6019,       Test Loss: 0.6283\n",
      "Epoch 65/70, Train Loss: 0.5999,       Test Loss: 0.6283\n",
      "Epoch 66/70, Train Loss: 0.6005,       Test Loss: 0.6273\n",
      "Epoch 67/70, Train Loss: 0.5993,       Test Loss: 0.6436\n",
      "Epoch 68/70, Train Loss: 0.5986,       Test Loss: 0.6261\n",
      "Epoch 69/70, Train Loss: 0.5969,       Test Loss: 0.6319\n",
      "Epoch 70/70, Train Loss: 0.5956,       Test Loss: 0.6276\n"
     ]
    }
   ],
   "source": [
    "train_losses, test_losses = batch_gd(\n",
    "    model, criterion, optimizer, train_loader, test_loader, epochs=70) #change this back to resenable amount later"
   ]
  },
  {
   "cell_type": "code",
   "execution_count": 60,
   "metadata": {},
   "outputs": [
    {
     "data": {
      "image/png": "[encoded data removed]",
      "text/plain": [
       "<Figure size 432x288 with 1 Axes>"
      ]
     },
     "metadata": {
      "needs_background": "light"
     },
     "output_type": "display_data"
    }
   ],
   "source": [
    "# Plot the train loss and test loss per iteration\n",
    "plt.plot(train_losses, label='train loss')\n",
    "plt.plot(test_losses, label='test loss')\n",
    "plt.legend()\n",
    "plt.show()"
   ]
  },
  {
   "cell_type": "code",
   "execution_count": 61,
   "metadata": {},
   "outputs": [],
   "source": [
    "torch.save(model, \"saved_model.pt\")"
   ]
  },
  {
   "cell_type": "code",
   "execution_count": 62,
   "metadata": {},
   "outputs": [],
   "source": [
    "model = torch.load(\"saved_model.pt\")"
   ]
  },
  {
   "cell_type": "code",
   "execution_count": 63,
   "metadata": {},
   "outputs": [
    {
     "name": "stdout",
     "output_type": "stream",
     "text": [
      "Test acc: 0.6465\n"
     ]
    }
   ],
   "source": [
    "model.eval()\n",
    "n_correct = 0.\n",
    "n_total = 0.\n",
    "predict_list = np.array([0]) #lazy programming will change later\n",
    "target_list = np.array([0])\n",
    "accuracy = []\n",
    "for index , (inputs , targets) in enumerate(test_loader):\n",
    "    inputs, targets = inputs.to(device) , targets.to(device)\n",
    "    outputs = model.forward(inputs)\n",
    "    predictions = (outputs > 0)\n",
    "\n",
    "    predict_list = np.vstack((predict_list,predictions.cpu().numpy()))\n",
    "    target_list = np.vstack((target_list,targets.cpu().numpy()))\n",
    "    n_correct += (predictions == targets).sum().item()\n",
    "    n_total += targets.shape[0]\n",
    "test_acc = n_correct / n_total\n",
    "print(f\"Test acc: {test_acc:.4f}\")"
   ]
  },
  {
   "cell_type": "code",
   "execution_count": 64,
   "metadata": {},
   "outputs": [],
   "source": [
    "from sklearn.metrics import confusion_matrix\n",
    "import itertools\n",
    "def plot_confusion_matrix(cm, classes,\n",
    "                          normalize=False,\n",
    "                          title='Confusion matrix',\n",
    "                          cmap=plt.cm.Blues):\n",
    "  \"\"\"\n",
    "  This function prints and plots the confusion matrix.\n",
    "  Normalization can be applied by setting `normalize=True`.\n",
    "  \"\"\"\n",
    "  if normalize:\n",
    "      cm = cm.astype('float') / cm.sum(axis=1)[:, np.newaxis]\n",
    "      print(\"Normalized confusion matrix\")\n",
    "  else:\n",
    "      print('Confusion matrix, without normalization')\n",
    "\n",
    "  print(cm)\n",
    "\n",
    "  plt.imshow(cm, interpolation='nearest', cmap=cmap)\n",
    "  plt.title(title)\n",
    "  plt.colorbar()\n",
    "  tick_marks = np.arange(len(classes))\n",
    "  plt.xticks(tick_marks, classes, rotation=45)\n",
    "  plt.yticks(tick_marks, classes)\n",
    "\n",
    "  fmt = '.2f' if normalize else 'd'\n",
    "  thresh = cm.max() / 2.\n",
    "  for i, j in itertools.product(range(cm.shape[0]), range(cm.shape[1])):\n",
    "      plt.text(j, i, format(cm[i, j], fmt),\n",
    "               horizontalalignment=\"center\",\n",
    "               color=\"white\" if cm[i, j] > thresh else \"black\")\n",
    "\n",
    "  plt.tight_layout()\n",
    "  plt.ylabel('True label')\n",
    "  plt.xlabel('Predicted label')\n",
    "  plt.show()\n",
    "  "
   ]
  },
  {
   "cell_type": "code",
   "execution_count": 65,
   "metadata": {},
   "outputs": [
    {
     "name": "stdout",
     "output_type": "stream",
     "text": [
      "Confusion matrix, without normalization\n",
      "[[2067 1472]\n",
      " [1014 2479]]\n"
     ]
    },
    {
     "data": {
      "image/png": "[encoded data removed]",
      "text/plain": [
       "<Figure size 432x288 with 2 Axes>"
      ]
     },
     "metadata": {
      "needs_background": "light"
     },
     "output_type": "display_data"
    }
   ],
   "source": [
    "target_list\n",
    "cm = confusion_matrix(target_list, 1*predict_list)\n",
    "cm[0][0] = cm[0][0] -1\n",
    "plot_confusion_matrix(cm, [0,1])"
   ]
  }
 ],
 "metadata": {
  "interpreter": {
   "hash": "9820c6239cdbb7db630939f5e05a5bf32e3e26a5f6ce0089fd4cbdc93b6da2ff"
  },
  "kernelspec": {
   "display_name": "Python 3.9.7 64-bit ('stonk': conda)",
   "language": "python",
   "name": "python3"
  },
  "language_info": {
   "codemirror_mode": {
    "name": "ipython",
    "version": 3
   },
   "file_extension": ".py",
   "mimetype": "text/x-python",
   "name": "python",
   "nbconvert_exporter": "python",
   "pygments_lexer": "ipython3",
   "version": "3.9.7"
  },
  "orig_nbformat": 4
 },
 "nbformat": 4,
 "nbformat_minor": 2
}
