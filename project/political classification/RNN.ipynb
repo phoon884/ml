{
 "cells": [
  {
   "cell_type": "code",
   "execution_count": 40,
   "metadata": {},
   "outputs": [],
   "source": [
    "import torch\n",
    "import torch.nn as nn\n",
    "import numpy as np\n",
    "import matplotlib.pyplot as plt\n",
    "from torch.utils.data import DataLoader\n",
    "from reddit_dataset import PoliticalStancesDataset"
   ]
  },
  {
   "cell_type": "code",
   "execution_count": 41,
   "metadata": {},
   "outputs": [],
   "source": [
    "train_data = PoliticalStancesDataset(\"./dataset_finalized.csv\", train=True)\n",
    "test_data = PoliticalStancesDataset(\"./dataset_finalized.csv\", train=False)\n",
    "train_loader = DataLoader(train_data, batch_size=64, shuffle=True)\n",
    "test_loader = DataLoader(test_data, batch_size=64, shuffle=True)"
   ]
  },
  {
   "cell_type": "code",
   "execution_count": 42,
   "metadata": {},
   "outputs": [],
   "source": [
    "device = torch.device(\"cuda:0\" if torch.cuda.is_available() else  \"cpu\")\n",
    "#device = torch.device(\"cpu\")"
   ]
  },
  {
   "cell_type": "code",
   "execution_count": 43,
   "metadata": {},
   "outputs": [],
   "source": [
    "class RNN(nn.Module):\n",
    "    def __init__(self, num_inputs, num_hidden, num_rnnlayers, num_outputs,dropout):\n",
    "        super(RNN, self).__init__()\n",
    "        self.num_inputs = num_inputs\n",
    "        self.num_hidden = num_hidden\n",
    "        self.num_rnnlayers = num_rnnlayers\n",
    "        self.num_outputs = num_outputs\n",
    "        self.sigmoid = nn.Sigmoid()\n",
    "        self.rnn = nn.LSTM(\n",
    "            input_size=self.num_inputs,\n",
    "            hidden_size=self.num_hidden,\n",
    "            num_layers=self.num_rnnlayers,\n",
    "            batch_first=True,\n",
    "            dropout = dropout\n",
    "            )\n",
    "        self.fc = nn.Linear(self.num_hidden, self.num_outputs)\n",
    "    def forward(self,X): \n",
    "        h0 = torch.zeros(self.num_rnnlayers, X.size(0),\n",
    "                         self.num_hidden,device = device)\n",
    "        c0 = torch.zeros(self.num_rnnlayers, X.size(0),\n",
    "                         self.num_hidden,device = device)\n",
    "        out, _ = self.rnn(X, (h0, c0))\n",
    "        out, _ = torch.max(out, 1)\n",
    "        out = self.fc(out)\n",
    "\n",
    "        return out"
   ]
  },
  {
   "cell_type": "code",
   "execution_count": 44,
   "metadata": {},
   "outputs": [],
   "source": [
    "model = RNN(num_inputs=25, num_hidden=80, num_rnnlayers=4, num_outputs=1, dropout = 0.4)\n",
    "model.to(device)\n",
    "criterion = nn.BCEWithLogitsLoss()\n",
    "optimizer = torch.optim.Adam(model.parameters(),lr = 1e-4)"
   ]
  },
  {
   "cell_type": "code",
   "execution_count": 45,
   "metadata": {},
   "outputs": [],
   "source": [
    "def batch_gd(model, criterion, optimizer, train_loader, test_loader, epochs):\n",
    "  train_losses = np.zeros(epochs)\n",
    "  test_losses = np.zeros(epochs)\n",
    "\n",
    "  for it in range(epochs):\n",
    "    model.train()\n",
    "    train_loss = []\n",
    "    for inputs, targets in train_loader:\n",
    "      # move data to GPU\n",
    "      inputs, targets = inputs.to(device), targets.to(device)\n",
    "\n",
    "      # zero the parameter gradients\n",
    "      optimizer.zero_grad()\n",
    "\n",
    "      # Forward pass\n",
    "      outputs = model(inputs)\n",
    "      loss = criterion(outputs, targets)\n",
    "        \n",
    "      # Backward and optimize\n",
    "      loss.backward()\n",
    "      optimizer.step()\n",
    "\n",
    "      train_loss.append(loss.item())\n",
    "\n",
    "    # Get train loss and test loss\n",
    "    train_loss = np.mean(train_loss) # a little misleading\n",
    "    \n",
    "    model.eval()\n",
    "    test_loss = []\n",
    "    for inputs, targets in test_loader:\n",
    "      inputs, targets = inputs.to(device), targets.to(device)\n",
    "      outputs = model(inputs)\n",
    "      loss = criterion(outputs, targets)\n",
    "      test_loss.append(loss.item())\n",
    "    test_loss = np.mean(test_loss)\n",
    "\n",
    "    # Save losses\n",
    "    train_losses[it] = train_loss\n",
    "    test_losses[it] = test_loss\n",
    "    \n",
    "    print(f'Epoch {it+1}/{epochs}, Train Loss: {train_loss:.4f}, \\\n",
    "      Test Loss: {test_loss:.4f}')\n",
    "  \n",
    "  return train_losses, test_losses"
   ]
  },
  {
   "cell_type": "code",
   "execution_count": 46,
   "metadata": {},
   "outputs": [
    {
     "name": "stdout",
     "output_type": "stream",
     "text": [
      "Epoch 1/70, Train Loss: 0.6921,       Test Loss: 0.6839\n",
      "Epoch 2/70, Train Loss: 0.6772,       Test Loss: 0.6738\n",
      "Epoch 3/70, Train Loss: 0.6706,       Test Loss: 0.6715\n",
      "Epoch 4/70, Train Loss: 0.6664,       Test Loss: 0.6656\n",
      "Epoch 5/70, Train Loss: 0.6646,       Test Loss: 0.6648\n",
      "Epoch 6/70, Train Loss: 0.6630,       Test Loss: 0.6625\n",
      "Epoch 7/70, Train Loss: 0.6614,       Test Loss: 0.6612\n",
      "Epoch 8/70, Train Loss: 0.6600,       Test Loss: 0.6600\n",
      "Epoch 9/70, Train Loss: 0.6584,       Test Loss: 0.6623\n",
      "Epoch 10/70, Train Loss: 0.6582,       Test Loss: 0.6581\n",
      "Epoch 11/70, Train Loss: 0.6562,       Test Loss: 0.6570\n",
      "Epoch 12/70, Train Loss: 0.6547,       Test Loss: 0.6553\n",
      "Epoch 13/70, Train Loss: 0.6539,       Test Loss: 0.6538\n",
      "Epoch 14/70, Train Loss: 0.6521,       Test Loss: 0.6521\n",
      "Epoch 15/70, Train Loss: 0.6504,       Test Loss: 0.6520\n",
      "Epoch 16/70, Train Loss: 0.6507,       Test Loss: 0.6560\n",
      "Epoch 17/70, Train Loss: 0.6484,       Test Loss: 0.6486\n",
      "Epoch 18/70, Train Loss: 0.6462,       Test Loss: 0.6495\n",
      "Epoch 19/70, Train Loss: 0.6442,       Test Loss: 0.6452\n",
      "Epoch 20/70, Train Loss: 0.6430,       Test Loss: 0.6438\n",
      "Epoch 21/70, Train Loss: 0.6426,       Test Loss: 0.6426\n",
      "Epoch 22/70, Train Loss: 0.6397,       Test Loss: 0.6430\n",
      "Epoch 23/70, Train Loss: 0.6403,       Test Loss: 0.6517\n",
      "Epoch 24/70, Train Loss: 0.6371,       Test Loss: 0.6417\n",
      "Epoch 25/70, Train Loss: 0.6364,       Test Loss: 0.6413\n",
      "Epoch 26/70, Train Loss: 0.6362,       Test Loss: 0.6415\n",
      "Epoch 27/70, Train Loss: 0.6339,       Test Loss: 0.6376\n",
      "Epoch 28/70, Train Loss: 0.6306,       Test Loss: 0.6425\n",
      "Epoch 29/70, Train Loss: 0.6317,       Test Loss: 0.6381\n",
      "Epoch 30/70, Train Loss: 0.6303,       Test Loss: 0.6358\n",
      "Epoch 31/70, Train Loss: 0.6289,       Test Loss: 0.6360\n",
      "Epoch 32/70, Train Loss: 0.6279,       Test Loss: 0.6377\n",
      "Epoch 33/70, Train Loss: 0.6261,       Test Loss: 0.6333\n",
      "Epoch 34/70, Train Loss: 0.6242,       Test Loss: 0.6331\n",
      "Epoch 35/70, Train Loss: 0.6252,       Test Loss: 0.6337\n",
      "Epoch 36/70, Train Loss: 0.6238,       Test Loss: 0.6321\n",
      "Epoch 37/70, Train Loss: 0.6227,       Test Loss: 0.6359\n",
      "Epoch 38/70, Train Loss: 0.6224,       Test Loss: 0.6371\n",
      "Epoch 39/70, Train Loss: 0.6206,       Test Loss: 0.6370\n",
      "Epoch 40/70, Train Loss: 0.6194,       Test Loss: 0.6303\n",
      "Epoch 41/70, Train Loss: 0.6182,       Test Loss: 0.6321\n",
      "Epoch 42/70, Train Loss: 0.6178,       Test Loss: 0.6295\n",
      "Epoch 43/70, Train Loss: 0.6171,       Test Loss: 0.6325\n",
      "Epoch 44/70, Train Loss: 0.6162,       Test Loss: 0.6291\n",
      "Epoch 45/70, Train Loss: 0.6151,       Test Loss: 0.6283\n",
      "Epoch 46/70, Train Loss: 0.6138,       Test Loss: 0.6341\n",
      "Epoch 47/70, Train Loss: 0.6140,       Test Loss: 0.6288\n",
      "Epoch 48/70, Train Loss: 0.6129,       Test Loss: 0.6267\n",
      "Epoch 49/70, Train Loss: 0.6125,       Test Loss: 0.6268\n",
      "Epoch 50/70, Train Loss: 0.6112,       Test Loss: 0.6341\n",
      "Epoch 51/70, Train Loss: 0.6101,       Test Loss: 0.6268\n",
      "Epoch 52/70, Train Loss: 0.6111,       Test Loss: 0.6294\n",
      "Epoch 53/70, Train Loss: 0.6078,       Test Loss: 0.6285\n",
      "Epoch 54/70, Train Loss: 0.6074,       Test Loss: 0.6274\n",
      "Epoch 55/70, Train Loss: 0.6082,       Test Loss: 0.6259\n",
      "Epoch 56/70, Train Loss: 0.6062,       Test Loss: 0.6281\n",
      "Epoch 57/70, Train Loss: 0.6067,       Test Loss: 0.6294\n",
      "Epoch 58/70, Train Loss: 0.6030,       Test Loss: 0.6272\n",
      "Epoch 59/70, Train Loss: 0.6037,       Test Loss: 0.6286\n",
      "Epoch 60/70, Train Loss: 0.6025,       Test Loss: 0.6277\n",
      "Epoch 61/70, Train Loss: 0.6034,       Test Loss: 0.6301\n",
      "Epoch 62/70, Train Loss: 0.6019,       Test Loss: 0.6270\n",
      "Epoch 63/70, Train Loss: 0.6014,       Test Loss: 0.6290\n",
      "Epoch 64/70, Train Loss: 0.5992,       Test Loss: 0.6290\n",
      "Epoch 65/70, Train Loss: 0.5994,       Test Loss: 0.6287\n",
      "Epoch 66/70, Train Loss: 0.5995,       Test Loss: 0.6279\n",
      "Epoch 67/70, Train Loss: 0.5967,       Test Loss: 0.6278\n",
      "Epoch 68/70, Train Loss: 0.5954,       Test Loss: 0.6296\n",
      "Epoch 69/70, Train Loss: 0.5954,       Test Loss: 0.6309\n",
      "Epoch 70/70, Train Loss: 0.5949,       Test Loss: 0.6308\n"
     ]
    }
   ],
   "source": [
    "train_losses, test_losses = batch_gd(\n",
    "    model, criterion, optimizer, train_loader, test_loader, epochs=70) #change this back to resenable amount later"
   ]
  },
  {
   "cell_type": "code",
   "execution_count": 47,
   "metadata": {},
   "outputs": [
    {
     "data": {
      "image/png": "[encoded data removed]",
      "text/plain": [
       "<Figure size 432x288 with 1 Axes>"
      ]
     },
     "metadata": {
      "needs_background": "light"
     },
     "output_type": "display_data"
    }
   ],
   "source": [
    "# Plot the train loss and test loss per iteration\n",
    "plt.plot(train_losses, label='train loss')\n",
    "plt.plot(test_losses, label='test loss')\n",
    "plt.legend()\n",
    "plt.show()"
   ]
  },
  {
   "cell_type": "code",
   "execution_count": 48,
   "metadata": {},
   "outputs": [],
   "source": [
    "torch.save(model, \"saved_model.pt\")"
   ]
  },
  {
   "cell_type": "code",
   "execution_count": 49,
   "metadata": {},
   "outputs": [],
   "source": [
    "model = torch.load(\"saved_model.pt\")"
   ]
  },
  {
   "cell_type": "code",
   "execution_count": 50,
   "metadata": {},
   "outputs": [
    {
     "name": "stdout",
     "output_type": "stream",
     "text": [
      "Test acc: 0.6371\n"
     ]
    }
   ],
   "source": [
    "model.eval()\n",
    "n_correct = 0.\n",
    "n_total = 0.\n",
    "predict_list = np.array([0]) #lazy programming will change later\n",
    "target_list = np.array([0])\n",
    "accuracy = []\n",
    "for index , (inputs , targets) in enumerate(test_loader):\n",
    "    inputs, targets = inputs.to(device) , targets.to(device)\n",
    "    outputs = model.forward(inputs)\n",
    "    predictions = (outputs > 0)\n",
    "\n",
    "    predict_list = np.vstack((predict_list,predictions.cpu().numpy()))\n",
    "    target_list = np.vstack((target_list,targets.cpu().numpy()))\n",
    "    n_correct += (predictions == targets).sum().item()\n",
    "    n_total += targets.shape[0]\n",
    "test_acc = n_correct / n_total\n",
    "print(f\"Test acc: {test_acc:.4f}\")"
   ]
  },
  {
   "cell_type": "code",
   "execution_count": 51,
   "metadata": {},
   "outputs": [],
   "source": [
    "from sklearn.metrics import confusion_matrix\n",
    "import itertools\n",
    "def plot_confusion_matrix(cm, classes,\n",
    "                          normalize=False,\n",
    "                          title='Confusion matrix',\n",
    "                          cmap=plt.cm.Blues):\n",
    "  \"\"\"\n",
    "  This function prints and plots the confusion matrix.\n",
    "  Normalization can be applied by setting `normalize=True`.\n",
    "  \"\"\"\n",
    "  if normalize:\n",
    "      cm = cm.astype('float') / cm.sum(axis=1)[:, np.newaxis]\n",
    "      print(\"Normalized confusion matrix\")\n",
    "  else:\n",
    "      print('Confusion matrix, without normalization')\n",
    "\n",
    "  print(cm)\n",
    "\n",
    "  plt.imshow(cm, interpolation='nearest', cmap=cmap)\n",
    "  plt.title(title)\n",
    "  plt.colorbar()\n",
    "  tick_marks = np.arange(len(classes))\n",
    "  plt.xticks(tick_marks, classes, rotation=45)\n",
    "  plt.yticks(tick_marks, classes)\n",
    "\n",
    "  fmt = '.2f' if normalize else 'd'\n",
    "  thresh = cm.max() / 2.\n",
    "  for i, j in itertools.product(range(cm.shape[0]), range(cm.shape[1])):\n",
    "      plt.text(j, i, format(cm[i, j], fmt),\n",
    "               horizontalalignment=\"center\",\n",
    "               color=\"white\" if cm[i, j] > thresh else \"black\")\n",
    "\n",
    "  plt.tight_layout()\n",
    "  plt.ylabel('True label')\n",
    "  plt.xlabel('Predicted label')\n",
    "  plt.show()\n",
    "  "
   ]
  },
  {
   "cell_type": "code",
   "execution_count": 52,
   "metadata": {},
   "outputs": [
    {
     "name": "stdout",
     "output_type": "stream",
     "text": [
      "Confusion matrix, without normalization\n",
      "[[2151 1388]\n",
      " [1164 2329]]\n"
     ]
    },
    {
     "data": {
      "image/png": "[encoded data removed]",
      "text/plain": [
       "<Figure size 432x288 with 2 Axes>"
      ]
     },
     "metadata": {
      "needs_background": "light"
     },
     "output_type": "display_data"
    }
   ],
   "source": [
    "target_list\n",
    "cm = confusion_matrix(target_list, 1*predict_list)\n",
    "cm[0][0] = cm[0][0] -1\n",
    "plot_confusion_matrix(cm, [0,1])"
   ]
  }
 ],
 "metadata": {
  "interpreter": {
   "hash": "9820c6239cdbb7db630939f5e05a5bf32e3e26a5f6ce0089fd4cbdc93b6da2ff"
  },
  "kernelspec": {
   "display_name": "Python 3.9.7 64-bit ('stonk': conda)",
   "language": "python",
   "name": "python3"
  },
  "language_info": {
   "codemirror_mode": {
    "name": "ipython",
    "version": 3
   },
   "file_extension": ".py",
   "mimetype": "text/x-python",
   "name": "python",
   "nbconvert_exporter": "python",
   "pygments_lexer": "ipython3",
   "version": "3.9.7"
  },
  "orig_nbformat": 4
 },
 "nbformat": 4,
 "nbformat_minor": 2
}
